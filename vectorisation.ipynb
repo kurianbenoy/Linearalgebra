{
  "nbformat": 4,
  "nbformat_minor": 0,
  "metadata": {
    "colab": {
      "name": "vectorisation.ipynb",
      "version": "0.3.2",
      "provenance": []
    },
    "kernelspec": {
      "display_name": "Python 3",
      "language": "python",
      "name": "python3"
    }
  },
  "cells": [
    {
      "metadata": {
        "id": "EeleRv4g6QOi",
        "colab_type": "text"
      },
      "cell_type": "markdown",
      "source": [
        "# Vectorisation using Numpy"
      ]
    },
    {
      "metadata": {
        "id": "6nKhLV4O6QOo",
        "colab_type": "text"
      },
      "cell_type": "markdown",
      "source": [
        "My friend Abhijit recently asked a question on what is vectorisation and this concept was a bit unclear for him. I am trying to explain it briefly using some of lessons I learned from [Andrew NG's Deep learning course](deeplearning.ai).\n",
        "\n",
        "### But at first lets look what Rachel told in the [class](fast.ai)"
      ]
    },
    {
      "metadata": {
        "id": "a2XHCFp46QOs",
        "colab_type": "text"
      },
      "cell_type": "markdown",
      "source": [
        "Modern CPUs and GPUs can apply an operation to multiple elements at once on a single core. For instance, take the exponent of 4 floats in a vector in a single step. This is called SIMD. You will not be explicitly writing SIMD code (which tends to require assembly language or special C \"intrinsics\"), but instead will use vectorized operations in libraries like numpy, which in turn rely on specially tuned vectorized low level linear algebra APIs (in particular, BLAS, and LAPACK).\n",
        "\n",
        "### Matrix computation packages like BLAS and LAPACK\n",
        "\n",
        "[BLAS (Basic Linear Algebra Subprograms)](http://www.netlib.org/blas/): specification for low-level matrix and vector arithmetic operations. These are the standard building blocks for performing basic vector and matrix operations.  BLAS originated as a Fortran library in 1979.  Examples of BLAS libraries include: AMD Core Math Library (ACML), ATLAS, Intel Math Kernel Library (MKL), and OpenBLAS.\n",
        "\n",
        "[LAPACK](http://www.netlib.org/lapack/) is written in Fortran, provides routines for solving systems of linear equations, eigenvalue problems, and singular value problems.  Matrix factorizations (LU, Cholesky, QR, SVD, Schur).  Dense and banded matrices are handled, but not general sparse matrices.  Real and complex, single and double precision.\n",
        "\n",
        "1970s and 1980s: EISPACK (eigenvalue routines) and LINPACK (linear equations and linear least-squares routines) libraries\n",
        "\n",
        "**LAPACK original goal**: make LINAPCK and EISPACK run efficiently on shared-memory vector and parallel processors and exploit cache on modern cache-based architectures (initially released in 1992).  EISPACK and LINPACK ignore multi-layered memory hierarchies and spend too much time moving data around.\n",
        "\n",
        "LAPACK uses highly optimized block operations implementations (which much be implemented on each machine) LAPACK written so as much of the computation as possible is performed by BLAS.\n",
        "\n",
        "(source: [Lesson1](herrl))\n"
      ]
    },
    {
      "metadata": {
        "id": "Evj1llrT6QOz",
        "colab_type": "code",
        "colab": {}
      },
      "cell_type": "code",
      "source": [
        "import numpy as np"
      ],
      "execution_count": 0,
      "outputs": []
    },
    {
      "metadata": {
        "id": "tbBr5DcT6QO8",
        "colab_type": "code",
        "colab": {}
      },
      "cell_type": "code",
      "source": [
        "# Naive implementation\n",
        "def sumproducts(x,y):\n",
        "    result = 0\n",
        "    for i in range(len(x)):\n",
        "        for j in range(len(y)):\n",
        "            result += x[i]*j[i]\n",
        "    return result"
      ],
      "execution_count": 0,
      "outputs": []
    },
    {
      "metadata": {
        "id": "lnHpua9a6QPY",
        "colab_type": "code",
        "colab": {}
      },
      "cell_type": "code",
      "source": [
        "def sum_v(x,y):\n",
        "    x = x[np.newaxis,:]\n",
        "    y = y[:,np.newaxis]\n",
        "    return(x*y).flatten().sum()"
      ],
      "execution_count": 0,
      "outputs": []
    },
    {
      "metadata": {
        "id": "6rS5OQgn6XBF",
        "colab_type": "text"
      },
      "cell_type": "markdown",
      "source": [
        "**What is Vectorization?**\n",
        "\n",
        "Vectorization is a powerful ability within NumPy to express operations as occurring on entire arrays rather than their individual elements. Here’s a concise definition from Wes McKinney:\n",
        "\n",
        "    This practice of replacing explicit loops with array expressions is commonly referred to as vectorization. In general, vectorized array operations will often be one or two (or more) orders of magnitude faster than their pure Python equivalents, with the biggest impact [seen] in any kind of numerical computations. \n",
        "    [source](https://www.oreilly.com/library/view/python-for-data/9781449323592/ch04.html)\n",
        "\n",
        "When looping over an array or any data structure in Python, there’s a lot of overhead involved. Vectorized operations in NumPy delegate the looping internally to highly optimized C and Fortran functions, making for cleaner and faster Python code.\n",
        "\n",
        "This code is from the [source](https://realpython.com/numpy-array-programming/)"
      ]
    },
    {
      "metadata": {
        "id": "bTG_82UC6m5O",
        "colab_type": "code",
        "colab": {
          "base_uri": "https://localhost:8080/",
          "height": 34
        },
        "outputId": "d5fed88b-af91-4fee-a6eb-4221f7f12aca"
      },
      "cell_type": "code",
      "source": [
        "np.random.seed(343)\n",
        "x = np.random.choice([True, False],size=32331)\n",
        "x"
      ],
      "execution_count": 11,
      "outputs": [
        {
          "output_type": "execute_result",
          "data": {
            "text/plain": [
              "array([False, False,  True, ...,  True, False,  True])"
            ]
          },
          "metadata": {
            "tags": []
          },
          "execution_count": 11
        }
      ]
    },
    {
      "metadata": {
        "id": "APzn7Dj87eIO",
        "colab_type": "code",
        "colab": {}
      },
      "cell_type": "code",
      "source": [
        "def count_transactions(x) -> int:\n",
        "  count =0\n",
        "  for i,j in zip(x[:-1],x[1:]):\n",
        "    if j and not i:\n",
        "      count +=1\n",
        "  return count"
      ],
      "execution_count": 0,
      "outputs": []
    },
    {
      "metadata": {
        "id": "NYnTZ_3R8SL3",
        "colab_type": "code",
        "colab": {
          "base_uri": "https://localhost:8080/",
          "height": 34
        },
        "outputId": "e11c7d8a-4bb3-4b6e-f9c1-505766480b16"
      },
      "cell_type": "code",
      "source": [
        "count_transactions(x)"
      ],
      "execution_count": 15,
      "outputs": [
        {
          "output_type": "execute_result",
          "data": {
            "text/plain": [
              "8031"
            ]
          },
          "metadata": {
            "tags": []
          },
          "execution_count": 15
        }
      ]
    },
    {
      "metadata": {
        "id": "e4kRiHza8VIF",
        "colab_type": "code",
        "colab": {
          "base_uri": "https://localhost:8080/",
          "height": 34
        },
        "outputId": "16ee0964-b5fd-4308-8b85-bc92263e4b3c"
      },
      "cell_type": "code",
      "source": [
        "np.count_nonzero(x[:-1] < x[1:])"
      ],
      "execution_count": 16,
      "outputs": [
        {
          "output_type": "execute_result",
          "data": {
            "text/plain": [
              "8031"
            ]
          },
          "metadata": {
            "tags": []
          },
          "execution_count": 16
        }
      ]
    },
    {
      "metadata": {
        "id": "Ew6H7Hnn9a_p",
        "colab_type": "text"
      },
      "cell_type": "markdown",
      "source": [
        "**Buy Low, Sell High**\n",
        "\n",
        "Naive way\n"
      ]
    },
    {
      "metadata": {
        "id": "1TwQjC4H81L2",
        "colab_type": "code",
        "colab": {}
      },
      "cell_type": "code",
      "source": [
        " def profit(prices):\n",
        "...     max_px = 0\n",
        "...     min_px = prices[0]\n",
        "...     for px in prices[1:]:\n",
        "...         min_px = min(min_px, px)\n",
        "...         max_px = max(px - min_px, max_px)\n",
        "...     return max_px\n"
      ],
      "execution_count": 0,
      "outputs": []
    },
    {
      "metadata": {
        "id": "wHMS0V5K9hZW",
        "colab_type": "code",
        "colab": {
          "base_uri": "https://localhost:8080/",
          "height": 34
        },
        "outputId": "415f2cf7-2f08-4cb8-d5f9-ccacd50c1f20"
      },
      "cell_type": "code",
      "source": [
        "prices = [3,25,20,34,11,52,1]\n",
        "profit(prices)"
      ],
      "execution_count": 20,
      "outputs": [
        {
          "output_type": "execute_result",
          "data": {
            "text/plain": [
              "49"
            ]
          },
          "metadata": {
            "tags": []
          },
          "execution_count": 20
        }
      ]
    },
    {
      "metadata": {
        "id": "5SBmEVcE9_Qg",
        "colab_type": "code",
        "colab": {
          "base_uri": "https://localhost:8080/",
          "height": 156
        },
        "outputId": "6bb4a453-2cf7-4693-d850-8f9a7ee1f371"
      },
      "cell_type": "code",
      "source": [
        "##Numpy way\n",
        "\n",
        "prices = np.full(100,fill_value=np.nan)\n",
        "prices[[0,25,60,-1]] = [80,30,24,50.]\n",
        "prices\n"
      ],
      "execution_count": 23,
      "outputs": [
        {
          "output_type": "execute_result",
          "data": {
            "text/plain": [
              "array([80., nan, nan, nan, nan, nan, nan, nan, nan, nan, nan, nan, nan,\n",
              "       nan, nan, nan, nan, nan, nan, nan, nan, nan, nan, nan, nan, 30.,\n",
              "       nan, nan, nan, nan, nan, nan, nan, nan, nan, nan, nan, nan, nan,\n",
              "       nan, nan, nan, nan, nan, nan, nan, nan, nan, nan, nan, nan, nan,\n",
              "       nan, nan, nan, nan, nan, nan, nan, nan, 24., nan, nan, nan, nan,\n",
              "       nan, nan, nan, nan, nan, nan, nan, nan, nan, nan, nan, nan, nan,\n",
              "       nan, nan, nan, nan, nan, nan, nan, nan, nan, nan, nan, nan, nan,\n",
              "       nan, nan, nan, nan, nan, nan, nan, nan, 50.])"
            ]
          },
          "metadata": {
            "tags": []
          },
          "execution_count": 23
        }
      ]
    },
    {
      "metadata": {
        "id": "ypiGJ6QE9nra",
        "colab_type": "code",
        "colab": {
          "base_uri": "https://localhost:8080/",
          "height": 364
        },
        "outputId": "e82d6a0f-eae2-4ed1-8132-9b835467b56a"
      },
      "cell_type": "code",
      "source": [
        "# Linearly interpolate the missing values and add some noise.\n",
        ">>> x = np.arange(len(prices))\n",
        ">>> is_valid = ~np.isnan(prices)\n",
        ">>> prices = np.interp(x=x, xp=x[is_valid], fp=prices[is_valid])\n",
        ">>> prices += np.random.randn(len(prices)) * 2\n",
        "prices"
      ],
      "execution_count": 25,
      "outputs": [
        {
          "output_type": "execute_result",
          "data": {
            "text/plain": [
              "array([82.7461237 , 77.59882341, 76.34587185, 72.22852067, 77.26778566,\n",
              "       73.2592392 , 71.81655333, 63.40670567, 68.07829746, 61.85925994,\n",
              "       59.77077327, 56.09484542, 51.60708599, 56.85643813, 54.88233337,\n",
              "       49.34457635, 48.19090109, 46.16015471, 43.19317281, 40.46661339,\n",
              "       38.00757836, 35.47757097, 37.15611734, 30.63715036, 36.26539673,\n",
              "       30.63089107, 28.8780421 , 24.32023244, 28.30707095, 28.19509188,\n",
              "       28.00987048, 27.86474066, 30.95111954, 26.28911995, 28.82800924,\n",
              "       27.50514083, 29.69357535, 22.18630921, 27.48147152, 30.08157581,\n",
              "       24.60783548, 27.6273575 , 29.52592252, 26.64175613, 26.17134039,\n",
              "       27.69447943, 26.20251811, 31.40742236, 22.46820779, 27.93547135,\n",
              "       21.5368078 , 26.45907927, 24.7545115 , 24.42924432, 25.38462033,\n",
              "       25.0143149 , 29.59142871, 20.11941655, 25.71026774, 22.02588703,\n",
              "       23.78035484, 21.6635428 , 23.81055641, 25.82299807, 27.6083312 ,\n",
              "       24.72397155, 33.77843846, 29.49014174, 29.85290176, 23.08394608,\n",
              "       30.25086228, 36.51320183, 29.77702729, 35.38562391, 27.62748834,\n",
              "       30.74071333, 32.36771551, 39.73234345, 33.8549939 , 41.39648906,\n",
              "       37.02985525, 37.47905166, 35.04944317, 42.40657469, 39.25000715,\n",
              "       40.2259246 , 41.09788954, 43.59161953, 40.96846952, 43.46107731,\n",
              "       43.53711193, 41.95600561, 44.68452144, 46.15030428, 47.7540783 ,\n",
              "       46.69454059, 46.31735711, 49.31201599, 47.12705743, 53.8480817 ])"
            ]
          },
          "metadata": {
            "tags": []
          },
          "execution_count": 25
        }
      ]
    },
    {
      "metadata": {
        "id": "6oe_cpL1-YTP",
        "colab_type": "code",
        "colab": {
          "base_uri": "https://localhost:8080/",
          "height": 393
        },
        "outputId": "d463259f-4983-4bf1-b91a-56baa1cf9596"
      },
      "cell_type": "code",
      "source": [
        ">>> import matplotlib.pyplot as plt\n",
        "\n",
        "# Warning! This isn't a fully correct solution, but it works for now.\n",
        "# If the absolute min came after the absolute max, you'd have trouble.\n",
        ">>> mn = np.argmin(prices)\n",
        ">>> mx = mn + np.argmax(prices[mn:])\n",
        ">>> kwargs = {'markersize': 12, 'linestyle': ''}\n",
        "\n",
        ">>> fig, ax = plt.subplots()\n",
        ">>> ax.plot(prices)\n",
        ">>> ax.set_title('Price History')\n",
        ">>> ax.set_xlabel('Time')\n",
        ">>> ax.set_ylabel('Price')\n",
        ">>> ax.plot(mn, prices[mn], color='green', **kwargs)\n",
        ">>> ax.plot(mx, prices[mx], color='red', **kwargs)"
      ],
      "execution_count": 26,
      "outputs": [
        {
          "output_type": "execute_result",
          "data": {
            "text/plain": [
              "[<matplotlib.lines.Line2D at 0x7facd6f61e10>]"
            ]
          },
          "metadata": {
            "tags": []
          },
          "execution_count": 26
        },
        {
          "output_type": "display_data",
          "data": {
            "image/png": "[encoded data removed]",
            "text/plain": [
              "<Figure size 576x396 with 1 Axes>"
            ]
          },
          "metadata": {
            "tags": []
          }
        }
      ]
    },
    {
      "metadata": {
        "id": "Bn7SQ5ap-fcr",
        "colab_type": "code",
        "colab": {}
      },
      "cell_type": "code",
      "source": [
        "cummin = np.minimum.accumulate\n"
      ],
      "execution_count": 0,
      "outputs": []
    },
    {
      "metadata": {
        "id": "smhBWp61-mV6",
        "colab_type": "code",
        "colab": {}
      },
      "cell_type": "code",
      "source": [
        "def profit_with_numpy(prices):\n",
        "...     \"\"\"Price minus cumulative minimum price, element-wise.\"\"\"\n",
        "...     prices = np.asarray(prices)\n",
        "...     return np.max(prices - cummin(prices))"
      ],
      "execution_count": 0,
      "outputs": []
    },
    {
      "metadata": {
        "id": "lVSiYFa2-ni7",
        "colab_type": "code",
        "colab": {
          "base_uri": "https://localhost:8080/",
          "height": 34
        },
        "outputId": "4d62bd9d-fc71-45a9-a220-686ea08adf0a"
      },
      "cell_type": "code",
      "source": [
        "profit_with_numpy(prices)"
      ],
      "execution_count": 33,
      "outputs": [
        {
          "output_type": "execute_result",
          "data": {
            "text/plain": [
              "33.7286651487919"
            ]
          },
          "metadata": {
            "tags": []
          },
          "execution_count": 33
        }
      ]
    },
    {
      "metadata": {
        "id": "74slu4lW-3vS",
        "colab_type": "code",
        "colab": {
          "base_uri": "https://localhost:8080/",
          "height": 34
        },
        "outputId": "a1081bc5-3d4d-4ae7-f37f-20cad8ed8aec"
      },
      "cell_type": "code",
      "source": [
        "#Intermezzo: Understanding Axes Notation\n",
        "arr= np.array([[1,2,5],\n",
        "              [11,5,23]])\n",
        "arr.sum(axis=0)"
      ],
      "execution_count": 34,
      "outputs": [
        {
          "output_type": "execute_result",
          "data": {
            "text/plain": [
              "array([12,  7, 28])"
            ]
          },
          "metadata": {
            "tags": []
          },
          "execution_count": 34
        }
      ]
    },
    {
      "metadata": {
        "id": "vIiHCcjO_r9v",
        "colab_type": "code",
        "colab": {
          "base_uri": "https://localhost:8080/",
          "height": 34
        },
        "outputId": "19531f4b-9964-44f4-f5e3-ebcd8fd5684b"
      },
      "cell_type": "code",
      "source": [
        "arr.sum(axis=1)"
      ],
      "execution_count": 35,
      "outputs": [
        {
          "output_type": "execute_result",
          "data": {
            "text/plain": [
              "array([ 8, 39])"
            ]
          },
          "metadata": {
            "tags": []
          },
          "execution_count": 35
        }
      ]
    },
    {
      "metadata": {
        "id": "GRAK_b-x_t2L",
        "colab_type": "code",
        "colab": {
          "base_uri": "https://localhost:8080/",
          "height": 34
        },
        "outputId": "0f513c4a-b664-48e8-b4cd-7ac8c06c6806"
      },
      "cell_type": "code",
      "source": [
        "# Brodcasting\n",
        ">>> a = np.array([1.5, 2.5, 3.5])\n",
        ">>> b = np.array([10., 5., 1.])\n",
        ">>> a / b"
      ],
      "execution_count": 36,
      "outputs": [
        {
          "output_type": "execute_result",
          "data": {
            "text/plain": [
              "array([0.15, 0.5 , 3.5 ])"
            ]
          },
          "metadata": {
            "tags": []
          },
          "execution_count": 36
        }
      ]
    },
    {
      "metadata": {
        "id": "VTDdgt7E__yX",
        "colab_type": "code",
        "colab": {}
      },
      "cell_type": "code",
      "source": [
        ""
      ],
      "execution_count": 0,
      "outputs": []
    }
  ]
}