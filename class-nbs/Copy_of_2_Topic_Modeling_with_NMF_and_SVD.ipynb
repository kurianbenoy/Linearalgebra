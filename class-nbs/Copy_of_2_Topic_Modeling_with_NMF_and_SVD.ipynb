{
  "nbformat": 4,
  "nbformat_minor": 0,
  "metadata": {
    "colab": {
      "name": "Copy of 2. Topic Modeling with NMF and SVD.ipynb",
      "version": "0.3.2",
      "provenance": [],
      "collapsed_sections": [
        "ozu4wwRjqce8",
        "N3NMuEsaqce_",
        "b5o12P2UqcfD",
        "joXQz01UqcfG",
        "nnWUpk9Xqcfx",
        "Q7GJCuhvqcf_",
        "DBo4q9GcqcgA",
        "5wgZfw-0qcgD",
        "LcNRUoCCqcgF",
        "viblCvIzqche",
        "vpLo6-9QqckX",
        "PIOCJFPyqckZ",
        "iyx8X9riqclo",
        "pTAetyiYqcmI",
        "_k3jubpZqcmK",
        "1HDwTLK3qcmO",
        "PJH58sZNqcmQ",
        "iSn17VL4qcmU",
        "ZAQi1EqCqcm3",
        "1-TKmNncqcnK",
        "ss_7J7zbqcoS",
        "1kIquuQoqcoW",
        "IKM17_lYqcoY",
        "FBaLa7AdqcoZ"
      ],
      "include_colab_link": true
    },
    "kernelspec": {
      "name": "python3",
      "display_name": "Python 3"
    },
    "accelerator": "GPU"
  },
  "cells": [
    {
      "cell_type": "markdown",
      "metadata": {
        "id": "view-in-github",
        "colab_type": "text"
      },
      "source": [
        "<a href=\"https://colab.research.google.com/github/kurianbenoy/Linearalgebra/blob/master/class-nbs/Copy_of_2_Topic_Modeling_with_NMF_and_SVD.ipynb\" target=\"_parent\"><img src=\"https://colab.research.google.com/assets/colab-badge.svg\" alt=\"Open In Colab\"/></a>"
      ]
    },
    {
      "metadata": {
        "id": "2p2l_XfHqcal",
        "colab_type": "text"
      },
      "cell_type": "markdown",
      "source": [
        "You can read an overview of this Numerical Linear Algebra course in [this blog post](http://www.fast.ai/2017/07/17/num-lin-alg/).  The course was originally taught in the [University of San Francisco MS in Analytics](https://www.usfca.edu/arts-sciences/graduate-programs/analytics) graduate program.  Course lecture videos are [available on YouTube](https://www.youtube.com/playlist?list=PLtmWHNX-gukIc92m1K0P6bIOnZb-mg0hY) (note that the notebook numbers and video numbers do not line up, since some notebooks took longer than 1 video to cover).\n",
        "\n",
        "You can ask questions about the course on [our fast.ai forums](http://forums.fast.ai/c/lin-alg)."
      ]
    },
    {
      "metadata": {
        "id": "F0rPHKzWqcas",
        "colab_type": "text"
      },
      "cell_type": "markdown",
      "source": [
        "# 2. Topic Modeling with NMF and SVD"
      ]
    },
    {
      "metadata": {
        "id": "Mg-DoOzEqcav",
        "colab_type": "text"
      },
      "cell_type": "markdown",
      "source": [
        "Topic modeling is a great way to get started with matrix factorizations. We start with a **term-document matrix**:\n",
        "\n",
        "<img src=\"https://github.com/fastai/numerical-linear-algebra/blob/master/nbs/images/document_term.png?raw=1\" alt=\"term-document matrix\" style=\"width: 80%\"/>\n",
        "(source: [Introduction to Information Retrieval](http://player.slideplayer.com/15/4528582/#))\n",
        "\n",
        "We can decompose this into one tall thin matrix times one wide short matrix (possibly with a diagonal matrix in between).\n",
        "\n",
        "Notice that this representation does not take into account word order or sentence structure.  It's an example of a **bag of words** approach."
      ]
    },
    {
      "metadata": {
        "id": "Pbed-Wssqca1",
        "colab_type": "text"
      },
      "cell_type": "markdown",
      "source": [
        "### Motivation"
      ]
    },
    {
      "metadata": {
        "id": "U8TWfx7mqca4",
        "colab_type": "text"
      },
      "cell_type": "markdown",
      "source": [
        "Consider the most extreme case - reconstructing the matrix using an outer product of two vectors. Clearly, in most cases we won't be able to reconstruct the matrix exactly. But if we had one vector with the relative frequency of each vocabulary word out of the total word count, and one with the average number of words per document, then that outer product would be as close as we can get.\n",
        "\n",
        "Now consider increasing that matrices to two columns and two rows. The optimal decomposition would now be to cluster the documents into two groups, each of which has as different a distribution of words as possible to each other, but as similar as possible amongst the documents in the cluster. We will call those two groups \"topics\". And we would cluster the words into two groups, based on those which most frequently appear in each of the topics. "
      ]
    },
    {
      "metadata": {
        "id": "obUjeDcOqca7",
        "colab_type": "text"
      },
      "cell_type": "markdown",
      "source": [
        "### In today's class"
      ]
    },
    {
      "metadata": {
        "id": "Eg4NrWqfqca-",
        "colab_type": "text"
      },
      "cell_type": "markdown",
      "source": [
        "We'll take a dataset of documents in several different categories, and find topics (consisting of groups of words) for them.  Knowing the actual categories helps us evaluate if the topics we find make sense.\n",
        "\n",
        "We will try this with two different matrix factorizations: **Singular Value Decomposition (SVD)** and **Non-negative Matrix Factorization (NMF)**"
      ]
    },
    {
      "metadata": {
        "id": "XE8_L5YZqcbB",
        "colab_type": "code",
        "colab": {}
      },
      "cell_type": "code",
      "source": [
        "import numpy as np\n",
        "from sklearn.datasets import fetch_20newsgroups\n",
        "from sklearn import decomposition\n",
        "from scipy import linalg\n",
        "import matplotlib.pyplot as plt"
      ],
      "execution_count": 0,
      "outputs": []
    },
    {
      "metadata": {
        "id": "9Q1Y6uXjqcbN",
        "colab_type": "code",
        "colab": {}
      },
      "cell_type": "code",
      "source": [
        "%matplotlib inline\n",
        "np.set_printoptions(suppress=True)"
      ],
      "execution_count": 0,
      "outputs": []
    },
    {
      "metadata": {
        "id": "DSb5PiS7qcbU",
        "colab_type": "text"
      },
      "cell_type": "markdown",
      "source": [
        "## Additional Resources"
      ]
    },
    {
      "metadata": {
        "id": "x7vcWUhhqcbZ",
        "colab_type": "text"
      },
      "cell_type": "markdown",
      "source": [
        "- [Data source](http://scikit-learn.org/stable/datasets/twenty_newsgroups.html): Newsgroups are discussion groups on Usenet, which was popular in the 80s and 90s before the web really took off.  This dataset includes 18,000 newsgroups posts with 20 topics.\n",
        "- [Chris Manning's book chapter](https://nlp.stanford.edu/IR-book/pdf/18lsi.pdf) on matrix factorization and LSI \n",
        "- Scikit learn [truncated SVD LSI details](http://scikit-learn.org/stable/modules/decomposition.html#lsa)\n",
        "\n",
        "### Other Tutorials\n",
        "- [Scikit-Learn: Out-of-core classification of text documents](http://scikit-learn.org/stable/auto_examples/applications/plot_out_of_core_classification.html): uses [Reuters-21578](https://archive.ics.uci.edu/ml/datasets/reuters-21578+text+categorization+collection) dataset (Reuters articles labeled with ~100 categories), HashingVectorizer\n",
        "- [Text Analysis with Topic Models for the Humanities and Social Sciences](https://de.dariah.eu/tatom/index.html): uses [British and French Literature dataset](https://de.dariah.eu/tatom/datasets.html) of Jane Austen, Charlotte Bronte, Victor Hugo, and more"
      ]
    },
    {
      "metadata": {
        "id": "kK5tGbHQqcbd",
        "colab_type": "text"
      },
      "cell_type": "markdown",
      "source": [
        "## Set up data"
      ]
    },
    {
      "metadata": {
        "id": "ca8Ck_lhqcbf",
        "colab_type": "text"
      },
      "cell_type": "markdown",
      "source": [
        "Scikit Learn comes with a number of built-in datasets, as well as loading utilities to load several standard external datasets. This is a [great resource](http://scikit-learn.org/stable/datasets/), and the datasets include Boston housing prices, face images, patches of forest, diabetes, breast cancer, and more.  We will be using the newsgroups dataset.\n",
        "\n",
        "Newsgroups are discussion groups on Usenet, which was popular in the 80s and 90s before the web really took off.  This dataset includes 18,000 newsgroups posts with 20 topics.  "
      ]
    },
    {
      "metadata": {
        "id": "zBdud-vMqcbg",
        "colab_type": "code",
        "colab": {}
      },
      "cell_type": "code",
      "source": [
        "categories = ['alt.atheism', 'talk.religion.misc', 'comp.graphics', 'sci.space']\n",
        "remove = ('headers', 'footers', 'quotes')\n",
        "newsgroups_train = fetch_20newsgroups(subset='train', categories=categories, remove=remove)\n",
        "newsgroups_test = fetch_20newsgroups(subset='test', categories=categories, remove=remove)"
      ],
      "execution_count": 0,
      "outputs": []
    },
    {
      "metadata": {
        "id": "9j6T1pp-qcbs",
        "colab_type": "code",
        "outputId": "0a6690a6-2260-425c-bff2-4104c24a7a50",
        "colab": {
          "base_uri": "https://localhost:8080/",
          "height": 34
        }
      },
      "cell_type": "code",
      "source": [
        "newsgroups_train.filenames.shape, newsgroups_train.target.shape"
      ],
      "execution_count": 111,
      "outputs": [
        {
          "output_type": "execute_result",
          "data": {
            "text/plain": [
              "((2034,), (2034,))"
            ]
          },
          "metadata": {
            "tags": []
          },
          "execution_count": 111
        }
      ]
    },
    {
      "metadata": {
        "id": "n_zx05Mmqcb6",
        "colab_type": "text"
      },
      "cell_type": "markdown",
      "source": [
        "Let's look at some of the data.  Can you guess which category these messages are in?"
      ]
    },
    {
      "metadata": {
        "id": "AVWSVzvMqcb9",
        "colab_type": "code",
        "outputId": "0c2ab65a-8651-4552-e8e3-b4fada6fbee3",
        "colab": {
          "base_uri": "https://localhost:8080/",
          "height": 1267
        }
      },
      "cell_type": "code",
      "source": [
        "print(\"\\n\".join(newsgroups_train.data[:5]))"
      ],
      "execution_count": 112,
      "outputs": [
        {
          "output_type": "stream",
          "text": [
            "Hi,\n",
            "\n",
            "I've noticed that if you only save a model (with all your mapping planes\n",
            "positioned carefully) to a .3DS file that when you reload it after restarting\n",
            "3DS, they are given a default position and orientation.  But if you save\n",
            "to a .PRJ file their positions/orientation are preserved.  Does anyone\n",
            "know why this information is not stored in the .3DS file?  Nothing is\n",
            "explicitly said in the manual about saving texture rules in the .PRJ file. \n",
            "I'd like to be able to read the texture rule information, does anyone have \n",
            "the format for the .PRJ file?\n",
            "\n",
            "Is the .CEL file format available from somewhere?\n",
            "\n",
            "Rych\n",
            "\n",
            "\n",
            "Seems to be, barring evidence to the contrary, that Koresh was simply\n",
            "another deranged fanatic who thought it neccessary to take a whole bunch of\n",
            "folks with him, children and all, to satisfy his delusional mania. Jim\n",
            "Jones, circa 1993.\n",
            "\n",
            "\n",
            "Nope - fruitcakes like Koresh have been demonstrating such evil corruption\n",
            "for centuries.\n",
            "\n",
            " >In article <1993Apr19.020359.26996@sq.sq.com>, msb@sq.sq.com (Mark Brader) \n",
            "\n",
            "MB>                                                             So the\n",
            "MB> 1970 figure seems unlikely to actually be anything but a perijove.\n",
            "\n",
            "JG>Sorry, _perijoves_...I'm not used to talking this language.\n",
            "\n",
            "Couldn't we just say periapsis or apoapsis?\n",
            "\n",
            " \n",
            "I have a request for those who would like to see Charley Wingate\n",
            "respond to the \"Charley Challenges\" (and judging from my e-mail, there\n",
            "appear to be quite a few of you.)  \n",
            "\n",
            "It is clear that Mr. Wingate intends to continue to post tangential or\n",
            "unrelated articles while ingoring the Challenges themselves.  Between\n",
            "the last two re-postings of the Challenges, I noted perhaps a dozen or\n",
            "more posts by Mr. Wingate, none of which answered a single Challenge.  \n",
            "\n",
            "It seems unmistakable to me that Mr. Wingate hopes that the questions\n",
            "will just go away, and he is doing his level best to change the\n",
            "subject.  Given that this seems a rather common net.theist tactic, I\n",
            "would like to suggest that we impress upon him our desire for answers,\n",
            "in the following manner:\n",
            "\n",
            "1. Ignore any future articles by Mr. Wingate that do not address the\n",
            "Challenges, until he answers them or explictly announces that he\n",
            "refuses to do so.\n",
            "\n",
            "--or--\n",
            "\n",
            "2. If you must respond to one of his articles, include within it\n",
            "something similar to the following:\n",
            "\n",
            "    \"Please answer the questions posed to you in the Charley Challenges.\"\n",
            "\n",
            "Really, I'm not looking to humiliate anyone here, I just want some\n",
            "honest answers.  You wouldn't think that honesty would be too much to\n",
            "ask from a devout Christian, would you?  \n",
            "\n",
            "Nevermind, that was a rhetorical question.\n",
            "AW&ST  had a brief blurb on a Manned Lunar Exploration confernce\n",
            "May 7th  at Crystal City Virginia, under the auspices of AIAA.\n",
            "\n",
            "Does anyone know more about this?  How much, to attend????\n",
            "\n",
            "Anyone want to go?\n"
          ],
          "name": "stdout"
        }
      ]
    },
    {
      "metadata": {
        "id": "l8uWSz2_qccK",
        "colab_type": "text"
      },
      "cell_type": "markdown",
      "source": [
        "hint: definition of *perijove* is the point in the orbit of a satellite of Jupiter nearest the planet's center "
      ]
    },
    {
      "metadata": {
        "id": "v-oM6-E1qccM",
        "colab_type": "code",
        "outputId": "5a1b1b15-6f54-47fe-85f7-3b1ab9264eea",
        "colab": {
          "base_uri": "https://localhost:8080/",
          "height": 52
        }
      },
      "cell_type": "code",
      "source": [
        "np.array(newsgroups_train.target_names)[newsgroups_train.target[:5]]"
      ],
      "execution_count": 113,
      "outputs": [
        {
          "output_type": "execute_result",
          "data": {
            "text/plain": [
              "array(['comp.graphics', 'talk.religion.misc', 'sci.space', 'alt.atheism',\n",
              "       'sci.space'], dtype='<U18')"
            ]
          },
          "metadata": {
            "tags": []
          },
          "execution_count": 113
        }
      ]
    },
    {
      "metadata": {
        "id": "2dWCuueyqccV",
        "colab_type": "text"
      },
      "cell_type": "markdown",
      "source": [
        "The target attribute is the integer index of the category."
      ]
    },
    {
      "metadata": {
        "id": "1ocws8m4qccZ",
        "colab_type": "code",
        "outputId": "a951c7ae-79a5-4bfa-ad0f-e3d926ec05b7",
        "colab": {
          "base_uri": "https://localhost:8080/",
          "height": 34
        }
      },
      "cell_type": "code",
      "source": [
        "newsgroups_train.target[:10]"
      ],
      "execution_count": 114,
      "outputs": [
        {
          "output_type": "execute_result",
          "data": {
            "text/plain": [
              "array([1, 3, 2, 0, 2, 0, 2, 1, 2, 1])"
            ]
          },
          "metadata": {
            "tags": []
          },
          "execution_count": 114
        }
      ]
    },
    {
      "metadata": {
        "id": "JPaUm-3-qcch",
        "colab_type": "code",
        "colab": {}
      },
      "cell_type": "code",
      "source": [
        "num_topics, num_top_words = 6, 8"
      ],
      "execution_count": 0,
      "outputs": []
    },
    {
      "metadata": {
        "id": "-Tybt11Oqccu",
        "colab_type": "text"
      },
      "cell_type": "markdown",
      "source": [
        "Next, scikit learn has a method that will extract all the word counts for us."
      ]
    },
    {
      "metadata": {
        "id": "2zNT6a4hqccw",
        "colab_type": "code",
        "colab": {}
      },
      "cell_type": "code",
      "source": [
        "from sklearn.feature_extraction.text import CountVectorizer, TfidfVectorizer"
      ],
      "execution_count": 0,
      "outputs": []
    },
    {
      "metadata": {
        "id": "_VRsAfg0qcc1",
        "colab_type": "code",
        "outputId": "4e701b3c-0ce6-433d-b061-8df5bcb584a8",
        "colab": {
          "base_uri": "https://localhost:8080/",
          "height": 34
        }
      },
      "cell_type": "code",
      "source": [
        "vectorizer = CountVectorizer(stop_words='english')\n",
        "vectors = vectorizer.fit_transform(newsgroups_train.data).todense() # (documents, vocab)\n",
        "vectors.shape #, vectors.nnz / vectors.shape[0], row_means.shape"
      ],
      "execution_count": 117,
      "outputs": [
        {
          "output_type": "execute_result",
          "data": {
            "text/plain": [
              "(2034, 26576)"
            ]
          },
          "metadata": {
            "tags": []
          },
          "execution_count": 117
        }
      ]
    },
    {
      "metadata": {
        "id": "i2ZE05Ixqcc-",
        "colab_type": "code",
        "outputId": "3e266693-2884-4998-df2e-e175d013b4d5",
        "colab": {
          "base_uri": "https://localhost:8080/",
          "height": 34
        }
      },
      "cell_type": "code",
      "source": [
        "print(len(newsgroups_train.data), vectors.shape)"
      ],
      "execution_count": 118,
      "outputs": [
        {
          "output_type": "stream",
          "text": [
            "2034 (2034, 26576)\n"
          ],
          "name": "stdout"
        }
      ]
    },
    {
      "metadata": {
        "id": "i8iVdGOlqcdO",
        "colab_type": "code",
        "colab": {}
      },
      "cell_type": "code",
      "source": [
        "vocab = np.array(vectorizer.get_feature_names())"
      ],
      "execution_count": 0,
      "outputs": []
    },
    {
      "metadata": {
        "id": "k-RCu6_KqcdX",
        "colab_type": "code",
        "outputId": "2c948f73-683b-4a24-9bab-22ca5b08d418",
        "colab": {
          "base_uri": "https://localhost:8080/",
          "height": 34
        }
      },
      "cell_type": "code",
      "source": [
        "vocab.shape"
      ],
      "execution_count": 120,
      "outputs": [
        {
          "output_type": "execute_result",
          "data": {
            "text/plain": [
              "(26576,)"
            ]
          },
          "metadata": {
            "tags": []
          },
          "execution_count": 120
        }
      ]
    },
    {
      "metadata": {
        "id": "qwsUwyc5qcdh",
        "colab_type": "code",
        "outputId": "127d6b8a-f29b-4f41-9f46-6f9a634de98c",
        "colab": {
          "base_uri": "https://localhost:8080/",
          "height": 86
        }
      },
      "cell_type": "code",
      "source": [
        "vocab[7000:7020]"
      ],
      "execution_count": 121,
      "outputs": [
        {
          "output_type": "execute_result",
          "data": {
            "text/plain": [
              "array(['cosmonauts', 'cosmos', 'cosponsored', 'cost', 'costa', 'costar',\n",
              "       'costing', 'costly', 'costruction', 'costs', 'cosy', 'cote',\n",
              "       'couched', 'couldn', 'council', 'councils', 'counsel',\n",
              "       'counselees', 'counselor', 'count'], dtype='<U80')"
            ]
          },
          "metadata": {
            "tags": []
          },
          "execution_count": 121
        }
      ]
    },
    {
      "metadata": {
        "id": "5cxB20wzqcdt",
        "colab_type": "text"
      },
      "cell_type": "markdown",
      "source": [
        "## Singular Value Decomposition (SVD)"
      ]
    },
    {
      "metadata": {
        "id": "S1o26-ddqcdv",
        "colab_type": "text"
      },
      "cell_type": "markdown",
      "source": [
        "\"SVD is not nearly as famous as it should be.\" - Gilbert Strang"
      ]
    },
    {
      "metadata": {
        "id": "1KGGfTIfqcdx",
        "colab_type": "text"
      },
      "cell_type": "markdown",
      "source": [
        "We would clearly expect that the words that appear most frequently in one topic would appear less frequently in the other - otherwise that word wouldn't make a good choice to separate out the two topics. Therefore, we expect the topics to be **orthogonal**.\n",
        "\n",
        "The SVD algorithm factorizes a matrix into one matrix with **orthogonal columns** and one with **orthogonal rows** (along with a diagonal matrix, which contains the **relative importance** of each factor).\n",
        "\n",
        "<img src=\"https://github.com/fastai/numerical-linear-algebra/blob/master/nbs/images/svd_fb.png?raw=1\" alt=\"\" style=\"width: 80%\"/>\n",
        "(source: [Facebook Research: Fast Randomized SVD](https://research.fb.com/fast-randomized-svd/))\n",
        "\n",
        "SVD is an **exact decomposition**, since the matrices it creates are big enough to fully cover the original matrix. SVD is extremely widely used in linear algebra, and specifically in data science, including:\n",
        "\n",
        "- semantic analysis\n",
        "- collaborative filtering/recommendations ([winning entry for Netflix Prize](https://datajobs.com/data-science-repo/Recommender-Systems-%5BNetflix%5D.pdf))\n",
        "- calculate Moore-Penrose pseudoinverse\n",
        "- data compression\n",
        "- principal component analysis (will be covered later in course)"
      ]
    },
    {
      "metadata": {
        "id": "0OBPjTN-qcd0",
        "colab_type": "code",
        "outputId": "3b2a736f-f976-4c14-8578-293b25857547",
        "colab": {
          "base_uri": "https://localhost:8080/",
          "height": 52
        }
      },
      "cell_type": "code",
      "source": [
        "%time U, s, Vh = linalg.svd(vectors, full_matrices=False)"
      ],
      "execution_count": 122,
      "outputs": [
        {
          "output_type": "stream",
          "text": [
            "CPU times: user 1min 47s, sys: 5.47 s, total: 1min 53s\n",
            "Wall time: 58.4 s\n"
          ],
          "name": "stdout"
        }
      ]
    },
    {
      "metadata": {
        "id": "64sEXv8-qcd9",
        "colab_type": "code",
        "outputId": "17aeeaab-633c-4ef3-ea9a-919ebe2b0a72",
        "colab": {
          "base_uri": "https://localhost:8080/",
          "height": 34
        }
      },
      "cell_type": "code",
      "source": [
        "print(U.shape, s.shape, Vh.shape)"
      ],
      "execution_count": 123,
      "outputs": [
        {
          "output_type": "stream",
          "text": [
            "(2034, 2034) (2034,) (2034, 26576)\n"
          ],
          "name": "stdout"
        }
      ]
    },
    {
      "metadata": {
        "id": "jrjsgHmhqceF",
        "colab_type": "text"
      },
      "cell_type": "markdown",
      "source": [
        "Confirm this is a decomposition of the input."
      ]
    },
    {
      "metadata": {
        "id": "R9z1HZi1qceH",
        "colab_type": "text"
      },
      "cell_type": "markdown",
      "source": [
        "#### Answer"
      ]
    },
    {
      "metadata": {
        "id": "7L_ECDYrqceH",
        "colab_type": "code",
        "outputId": "74e3d044-aeb4-4928-8d52-6444348a9016",
        "colab": {
          "base_uri": "https://localhost:8080/",
          "height": 34
        }
      },
      "cell_type": "code",
      "source": [
        "#Exercise: confrim that U, s, Vh is a decomposition of the var Vectors\n",
        "reconstructed_vectors = U @ np.diag(s) @ Vh # matrix multipication to obtain SVD format\n",
        "np.linalg.norm(reconstructed_vectors - vectors) # calculate the matrix norm of difference\n",
        "np.allclose(reconstructed_vectors,vectors) #Returns True if two arrays are element-wise equal within a tolerance."
      ],
      "execution_count": 124,
      "outputs": [
        {
          "output_type": "execute_result",
          "data": {
            "text/plain": [
              "True"
            ]
          },
          "metadata": {
            "tags": []
          },
          "execution_count": 124
        }
      ]
    },
    {
      "metadata": {
        "id": "HysUCEpKqceW",
        "colab_type": "text"
      },
      "cell_type": "markdown",
      "source": [
        "Confirm that U, V are orthonormal"
      ]
    },
    {
      "metadata": {
        "id": "X7-meKPlqceX",
        "colab_type": "text"
      },
      "cell_type": "markdown",
      "source": [
        "#### Answer"
      ]
    },
    {
      "metadata": {
        "id": "-kpCaq2GqceY",
        "colab_type": "code",
        "outputId": "948372f4-19b4-4fb5-89f2-752693764082",
        "colab": {
          "base_uri": "https://localhost:8080/",
          "height": 34
        }
      },
      "cell_type": "code",
      "source": [
        "#Exercise: Confirm that U, Vh are orthonormal\n",
        "np.allclose(U.T @ U,np.eye(U.shape[0]))\n"
      ],
      "execution_count": 125,
      "outputs": [
        {
          "output_type": "execute_result",
          "data": {
            "text/plain": [
              "True"
            ]
          },
          "metadata": {
            "tags": []
          },
          "execution_count": 125
        }
      ]
    },
    {
      "metadata": {
        "id": "NnmRAvj2qceh",
        "colab_type": "text"
      },
      "cell_type": "markdown",
      "source": [
        "#### Topics"
      ]
    },
    {
      "metadata": {
        "id": "uHCjVr8Vqcei",
        "colab_type": "text"
      },
      "cell_type": "markdown",
      "source": [
        "What can we say about the singular values s?"
      ]
    },
    {
      "metadata": {
        "id": "IbtNHUuCqcej",
        "colab_type": "code",
        "outputId": "cd07e781-62c7-4248-cc65-d4af0d95fdd4",
        "colab": {
          "base_uri": "https://localhost:8080/",
          "height": 265
        }
      },
      "cell_type": "code",
      "source": [
        "plt.plot(s);"
      ],
      "execution_count": 126,
      "outputs": [
        {
          "output_type": "display_data",
          "data": {
            "image/png": "[encoded data removed]",
            "text/plain": [
              "<Figure size 432x288 with 1 Axes>"
            ]
          },
          "metadata": {
            "tags": []
          }
        }
      ]
    },
    {
      "metadata": {
        "id": "N8u3nJIxqcen",
        "colab_type": "code",
        "outputId": "989af5df-e73d-4a74-ddc6-ffda844b7ea5",
        "colab": {
          "base_uri": "https://localhost:8080/",
          "height": 287
        }
      },
      "cell_type": "code",
      "source": [
        "plt.plot(s[:10])"
      ],
      "execution_count": 127,
      "outputs": [
        {
          "output_type": "execute_result",
          "data": {
            "text/plain": [
              "[<matplotlib.lines.Line2D at 0x7fbf457d3a90>]"
            ]
          },
          "metadata": {
            "tags": []
          },
          "execution_count": 127
        },
        {
          "output_type": "display_data",
          "data": {
            "image/png": "[encoded data removed]",
            "text/plain": [
              "<Figure size 432x288 with 1 Axes>"
            ]
          },
          "metadata": {
            "tags": []
          }
        }
      ]
    },
    {
      "metadata": {
        "id": "c2AO-ddMqces",
        "colab_type": "code",
        "colab": {}
      },
      "cell_type": "code",
      "source": [
        "num_top_words=8\n",
        "\n",
        "def show_topics(a):\n",
        "    top_words = lambda t: [vocab[i] for i in np.argsort(t)[:-num_top_words-1:-1]]\n",
        "    topic_words = ([top_words(t) for t in a])\n",
        "    return [' '.join(t) for t in topic_words]"
      ],
      "execution_count": 0,
      "outputs": []
    },
    {
      "metadata": {
        "id": "M3VIUhP0qce0",
        "colab_type": "code",
        "outputId": "07757f67-0881-42f0-c2cc-6f6ebebce80f",
        "colab": {
          "base_uri": "https://localhost:8080/",
          "height": 191
        }
      },
      "cell_type": "code",
      "source": [
        "show_topics(Vh[:10])"
      ],
      "execution_count": 129,
      "outputs": [
        {
          "output_type": "execute_result",
          "data": {
            "text/plain": [
              "['ditto critus propagandist surname galacticentric kindergarten surreal imaginative',\n",
              " 'jpeg gif file color quality image jfif format',\n",
              " 'graphics edu pub mail 128 3d ray ftp',\n",
              " 'jesus god matthew people atheists atheism does graphics',\n",
              " 'image data processing analysis software available tools display',\n",
              " 'god atheists atheism religious believe religion argument true',\n",
              " 'space nasa lunar mars probe moon missions probes',\n",
              " 'image probe surface lunar mars probes moon orbit',\n",
              " 'argument fallacy conclusion example true ad argumentum premises',\n",
              " 'space larson image theory universe physical nasa material']"
            ]
          },
          "metadata": {
            "tags": []
          },
          "execution_count": 129
        }
      ]
    },
    {
      "metadata": {
        "id": "tK6at3Z2qce5",
        "colab_type": "text"
      },
      "cell_type": "markdown",
      "source": [
        "We get topics that match the kinds of clusters we would expect! This is despite the fact that this is an **unsupervised algorithm** - which is to say, we never actually told the algorithm how our documents are grouped."
      ]
    },
    {
      "metadata": {
        "id": "7cIscHLiqce6",
        "colab_type": "text"
      },
      "cell_type": "markdown",
      "source": [
        "We will return to SVD in **much more detail** later.  For now, the important takeaway is that we have a tool that allows us to exactly factor a matrix into orthogonal columns and orthogonal rows."
      ]
    },
    {
      "metadata": {
        "id": "0Jb-vnhMqce7",
        "colab_type": "text"
      },
      "cell_type": "markdown",
      "source": [
        "## Non-negative Matrix Factorization (NMF)"
      ]
    },
    {
      "metadata": {
        "heading_collapsed": true,
        "id": "ozu4wwRjqce8",
        "colab_type": "text"
      },
      "cell_type": "markdown",
      "source": [
        "#### Motivation"
      ]
    },
    {
      "metadata": {
        "hidden": true,
        "id": "FLSfcB38qce-",
        "colab_type": "text"
      },
      "cell_type": "markdown",
      "source": [
        "<img src=\"https://github.com/fastai/numerical-linear-algebra/blob/master/nbs/images/face_pca.png?raw=1\" alt=\"PCA on faces\" style=\"width: 80%\"/>\n",
        "\n",
        "(source: [NMF Tutorial](http://perso.telecom-paristech.fr/~essid/teach/NMF_tutorial_ICME-2014.pdf))\n",
        "\n",
        "A more interpretable approach:\n",
        "\n",
        "<img src=\"https://github.com/fastai/numerical-linear-algebra/blob/master/nbs/images/face_outputs.png?raw=1\" alt=\"NMF on Faces\" style=\"width: 80%\"/>\n",
        "\n",
        "(source: [NMF Tutorial](http://perso.telecom-paristech.fr/~essid/teach/NMF_tutorial_ICME-2014.pdf))"
      ]
    },
    {
      "metadata": {
        "heading_collapsed": true,
        "id": "N3NMuEsaqce_",
        "colab_type": "text"
      },
      "cell_type": "markdown",
      "source": [
        "#### Idea"
      ]
    },
    {
      "metadata": {
        "hidden": true,
        "id": "HBymovlvqcfB",
        "colab_type": "text"
      },
      "cell_type": "markdown",
      "source": [
        "Rather than constraining our factors to be *orthogonal*, another idea would to constrain them to be *non-negative*. NMF is a factorization of a non-negative data set $V$: $$ V = W H$$ into non-negative matrices $W,\\; H$. Often positive factors will be **more easily interpretable** (and this is the reason behind NMF's popularity). \n",
        "\n",
        "<img src=\"https://github.com/fastai/numerical-linear-algebra/blob/master/nbs/images/face_nmf.png?raw=1\" alt=\"NMF on faces\" style=\"width: 80%\"/>\n",
        "\n",
        "(source: [NMF Tutorial](http://perso.telecom-paristech.fr/~essid/teach/NMF_tutorial_ICME-2014.pdf))\n",
        "\n",
        "Nonnegative matrix factorization (NMF) is a non-exact factorization that factors into one skinny positive matrix and one short positive matrix.  NMF is NP-hard and non-unique.  There are a number of variations on it, created by adding different constraints. "
      ]
    },
    {
      "metadata": {
        "heading_collapsed": true,
        "id": "b5o12P2UqcfD",
        "colab_type": "text"
      },
      "cell_type": "markdown",
      "source": [
        "#### Applications of NMF"
      ]
    },
    {
      "metadata": {
        "hidden": true,
        "id": "hXrhnxikqcfE",
        "colab_type": "text"
      },
      "cell_type": "markdown",
      "source": [
        "- [Face Decompositions](http://scikit-learn.org/stable/auto_examples/decomposition/plot_faces_decomposition.html#sphx-glr-auto-examples-decomposition-plot-faces-decomposition-py)\n",
        "- [Collaborative Filtering, eg movie recommendations](http://www.quuxlabs.com/blog/2010/09/matrix-factorization-a-simple-tutorial-and-implementation-in-python/)\n",
        "- [Audio source separation](https://pdfs.semanticscholar.org/cc88/0b24791349df39c5d9b8c352911a0417df34.pdf)\n",
        "- [Chemistry](http://ieeexplore.ieee.org/document/1532909/)\n",
        "- [Bioinformatics](https://bmcbioinformatics.biomedcentral.com/articles/10.1186/s12859-015-0485-4) and [Gene Expression](https://www.ncbi.nlm.nih.gov/pmc/articles/PMC2623306/)\n",
        "- Topic Modeling (our problem!)\n",
        "\n",
        "<img src=\"https://github.com/fastai/numerical-linear-algebra/blob/master/nbs/images/nmf_doc.png?raw=1\" alt=\"NMF on documents\" style=\"width: 80%\"/>\n",
        "\n",
        "(source: [NMF Tutorial](http://perso.telecom-paristech.fr/~essid/teach/NMF_tutorial_ICME-2014.pdf))"
      ]
    },
    {
      "metadata": {
        "hidden": true,
        "id": "7S26W6-8qcfF",
        "colab_type": "text"
      },
      "cell_type": "markdown",
      "source": [
        "**More Reading**:\n",
        "\n",
        "- [The Why and How of Nonnegative Matrix Factorization](https://arxiv.org/pdf/1401.5226.pdf)"
      ]
    },
    {
      "metadata": {
        "heading_collapsed": true,
        "id": "joXQz01UqcfG",
        "colab_type": "text"
      },
      "cell_type": "markdown",
      "source": [
        "### NMF from sklearn"
      ]
    },
    {
      "metadata": {
        "hidden": true,
        "id": "FQ1aZu_rqcfH",
        "colab_type": "text"
      },
      "cell_type": "markdown",
      "source": [
        "First, we will use [scikit-learn's implementation of NMF](http://scikit-learn.org/stable/modules/generated/sklearn.decomposition.NMF.html):"
      ]
    },
    {
      "metadata": {
        "hidden": true,
        "id": "yJry_lPiqcfI",
        "colab_type": "code",
        "colab": {}
      },
      "cell_type": "code",
      "source": [
        "m,n=vectors.shape\n",
        "d=5  # num topics"
      ],
      "execution_count": 0,
      "outputs": []
    },
    {
      "metadata": {
        "id": "6ZP5EoNfthm7",
        "colab_type": "code",
        "outputId": "ada235d8-1596-4f96-836e-6f374e0c37f6",
        "colab": {
          "base_uri": "https://localhost:8080/",
          "height": 34
        }
      },
      "cell_type": "code",
      "source": [
        "m,n"
      ],
      "execution_count": 131,
      "outputs": [
        {
          "output_type": "execute_result",
          "data": {
            "text/plain": [
              "(2034, 26576)"
            ]
          },
          "metadata": {
            "tags": []
          },
          "execution_count": 131
        }
      ]
    },
    {
      "metadata": {
        "hidden": true,
        "id": "O1s4Yg3iqcfU",
        "colab_type": "code",
        "colab": {}
      },
      "cell_type": "code",
      "source": [
        "clf = decomposition.NMF(n_components=d, random_state=1)\n",
        "\n",
        "W1 = clf.fit_transform(vectors)\n",
        "H1 = clf.components_"
      ],
      "execution_count": 0,
      "outputs": []
    },
    {
      "metadata": {
        "hidden": true,
        "id": "hbNOs0WMqcfX",
        "colab_type": "code",
        "outputId": "ed4d551c-ec06-40c7-ebbe-6da92bde346c",
        "colab": {
          "base_uri": "https://localhost:8080/",
          "height": 104
        }
      },
      "cell_type": "code",
      "source": [
        "show_topics(H1)"
      ],
      "execution_count": 133,
      "outputs": [
        {
          "output_type": "execute_result",
          "data": {
            "text/plain": [
              "['jpeg image gif file color images format quality',\n",
              " 'edu graphics pub mail 128 ray ftp send',\n",
              " 'space launch satellite nasa commercial satellites year market',\n",
              " 'jesus god people matthew atheists does atheism said',\n",
              " 'image data available software processing ftp edu analysis']"
            ]
          },
          "metadata": {
            "tags": []
          },
          "execution_count": 133
        }
      ]
    },
    {
      "metadata": {
        "heading_collapsed": true,
        "id": "n2PIIxSxqcfd",
        "colab_type": "text"
      },
      "cell_type": "markdown",
      "source": [
        "### TF-IDF"
      ]
    },
    {
      "metadata": {
        "hidden": true,
        "id": "HL68plWWqcfe",
        "colab_type": "text"
      },
      "cell_type": "markdown",
      "source": [
        "[Topic Frequency-Inverse Document Frequency](http://www.tfidf.com/) (TF-IDF) is a way to normalize term counts by taking into account how often they appear in a document, how long the document is, and how commmon/rare the term is.\n",
        "\n",
        "TF = (# occurrences of term t in document) / (# of words in documents)\n",
        "\n",
        "IDF = log(# of documents / # documents with term t in it)"
      ]
    },
    {
      "metadata": {
        "hidden": true,
        "id": "BJL_BeWTqcff",
        "colab_type": "code",
        "colab": {}
      },
      "cell_type": "code",
      "source": [
        "vectorizer_tfidf = TfidfVectorizer(stop_words='english')\n",
        "vectors_tfidf = vectorizer_tfidf.fit_transform(newsgroups_train.data) # (documents, vocab)"
      ],
      "execution_count": 0,
      "outputs": []
    },
    {
      "metadata": {
        "hidden": true,
        "id": "J7hbBoZOqcfk",
        "colab_type": "code",
        "colab": {}
      },
      "cell_type": "code",
      "source": [
        "W1 = clf.fit_transform(vectors_tfidf)\n",
        "H1 = clf.components_"
      ],
      "execution_count": 0,
      "outputs": []
    },
    {
      "metadata": {
        "hidden": true,
        "id": "4BFwMa1Tqcfm",
        "colab_type": "code",
        "outputId": "bdaaf0a8-538d-4a94-949e-aaeb41c25b8e",
        "colab": {
          "base_uri": "https://localhost:8080/",
          "height": 104
        }
      },
      "cell_type": "code",
      "source": [
        "show_topics(H1)"
      ],
      "execution_count": 136,
      "outputs": [
        {
          "output_type": "execute_result",
          "data": {
            "text/plain": [
              "['people don think just like objective say morality',\n",
              " 'graphics thanks files image file program windows know',\n",
              " 'space nasa launch shuttle orbit moon lunar earth',\n",
              " 'ico bobbe tek beauchaine bronx manhattan sank queens',\n",
              " 'god jesus bible believe christian atheism does belief']"
            ]
          },
          "metadata": {
            "tags": []
          },
          "execution_count": 136
        }
      ]
    },
    {
      "metadata": {
        "hidden": true,
        "id": "PnxVqt8Zqcfp",
        "colab_type": "code",
        "outputId": "c9067cf7-c88b-4cb3-fdff-98538757c257",
        "colab": {
          "base_uri": "https://localhost:8080/",
          "height": 282
        }
      },
      "cell_type": "code",
      "source": [
        "plt.plot(clf.components_[0])"
      ],
      "execution_count": 137,
      "outputs": [
        {
          "output_type": "execute_result",
          "data": {
            "text/plain": [
              "[<matplotlib.lines.Line2D at 0x7fbf4510f160>]"
            ]
          },
          "metadata": {
            "tags": []
          },
          "execution_count": 137
        },
        {
          "output_type": "display_data",
          "data": {
            "image/png": "[encoded data removed]",
            "text/plain": [
              "<Figure size 432x288 with 1 Axes>"
            ]
          },
          "metadata": {
            "tags": []
          }
        }
      ]
    },
    {
      "metadata": {
        "hidden": true,
        "id": "gD6g1F1Mqcft",
        "colab_type": "code",
        "outputId": "35641a42-7f04-43b5-8f5f-11a999e47de5",
        "colab": {
          "base_uri": "https://localhost:8080/",
          "height": 34
        }
      },
      "cell_type": "code",
      "source": [
        "clf.reconstruction_err_"
      ],
      "execution_count": 138,
      "outputs": [
        {
          "output_type": "execute_result",
          "data": {
            "text/plain": [
              "43.712926057952785"
            ]
          },
          "metadata": {
            "tags": []
          },
          "execution_count": 138
        }
      ]
    },
    {
      "metadata": {
        "heading_collapsed": true,
        "id": "nnWUpk9Xqcfx",
        "colab_type": "text"
      },
      "cell_type": "markdown",
      "source": [
        "### NMF in summary"
      ]
    },
    {
      "metadata": {
        "hidden": true,
        "id": "hM9h2Sghqcfz",
        "colab_type": "text"
      },
      "cell_type": "markdown",
      "source": [
        "Benefits: Fast and easy to use!\n",
        "\n",
        "Downsides: took years of research and expertise to create"
      ]
    },
    {
      "metadata": {
        "hidden": true,
        "id": "qIy5ufo5qcf8",
        "colab_type": "text"
      },
      "cell_type": "markdown",
      "source": [
        "Notes:\n",
        "- For NMF, matrix needs to be at least as tall as it is wide, or we get an error with fit_transform\n",
        "- Can use df_min in CountVectorizer to only look at words that were in at least k of the split texts"
      ]
    },
    {
      "metadata": {
        "heading_collapsed": true,
        "id": "Q7GJCuhvqcf_",
        "colab_type": "text"
      },
      "cell_type": "markdown",
      "source": [
        "### NMF from scratch in numpy, using SGD"
      ]
    },
    {
      "metadata": {
        "hidden": true,
        "id": "DBo4q9GcqcgA",
        "colab_type": "text"
      },
      "cell_type": "markdown",
      "source": [
        "#### Gradient Descent"
      ]
    },
    {
      "metadata": {
        "hidden": true,
        "id": "2_6BIqCvqcgB",
        "colab_type": "text"
      },
      "cell_type": "markdown",
      "source": [
        "The key idea of standard **gradient descent**:\n",
        "1. Randomly choose some weights to start\n",
        "2. Loop:\n",
        "    - Use weights to calculate a prediction\n",
        "    - Calculate the derivative of the loss\n",
        "    - Update the weights\n",
        "3. Repeat step 2 lots of times.  Eventually we end up with some decent weights.\n",
        "\n",
        "**Key**: We want to decrease our loss and the derivative tells us the direction of **steepest descent**.  \n",
        "\n",
        "Note that *loss*, *error*, and *cost* are all terms used to describe the same thing.\n",
        "\n",
        "Let's take a look at the [Gradient Descent Intro notebook](gradient-descent-intro.ipynb) (originally from the [fast.ai deep learning course](https://github.com/fastai/courses))."
      ]
    },
    {
      "metadata": {
        "heading_collapsed": true,
        "hidden": true,
        "id": "5wgZfw-0qcgD",
        "colab_type": "text"
      },
      "cell_type": "markdown",
      "source": [
        "#### Stochastic Gradient Descent (SGD)"
      ]
    },
    {
      "metadata": {
        "hidden": true,
        "id": "fkbAXeS1qcgE",
        "colab_type": "text"
      },
      "cell_type": "markdown",
      "source": [
        "**Stochastic gradient descent** is an incredibly useful optimization method (it is also the heart of deep learning, where it is used for backpropagation).\n",
        "\n",
        "For *standard* gradient descent, we evaluate the loss using **all** of our data which can be really slow.  In *stochastic* gradient descent, we evaluate our loss function on just a sample of our data (sometimes called a *mini-batch*).  We would get different loss values on different samples of the data, so this is *why it is stochastic*.  It turns out that this is still an effective way to optimize, and it's much more efficient!\n",
        "\n",
        "We can see how this works in this [excel spreadsheet](graddesc.xlsm) (originally from the [fast.ai deep learning course](https://github.com/fastai/courses)).\n",
        "\n",
        "**Resources**:\n",
        "- [SGD Lecture from Andrew Ng's Coursera ML course](https://www.coursera.org/learn/machine-learning/lecture/DoRHJ/stochastic-gradient-descent)\n",
        "- <a href=\"http://wiki.fast.ai/index.php/Stochastic_Gradient_Descent_(SGD)\">fast.ai wiki page on SGD</a>\n",
        "- [Gradient Descent For Machine Learning](http://machinelearningmastery.com/gradient-descent-for-machine-learning/) (Jason Brownlee- Machine Learning Mastery)\n",
        "- [An overview of gradient descent optimization algorithms](http://sebastianruder.com/optimizing-gradient-descent/)"
      ]
    },
    {
      "metadata": {
        "heading_collapsed": true,
        "hidden": true,
        "id": "LcNRUoCCqcgF",
        "colab_type": "text"
      },
      "cell_type": "markdown",
      "source": [
        "#### Applying SGD to NMF"
      ]
    },
    {
      "metadata": {
        "collapsed": true,
        "hidden": true,
        "id": "DruP52dGqcgG",
        "colab_type": "text"
      },
      "cell_type": "markdown",
      "source": [
        "**Goal**: Decompose $V\\;(m \\times n)$ into $$V \\approx WH$$ where $W\\;(m \\times d)$ and $H\\;(d \\times n)$, $W,\\;H\\;>=\\;0$, and we've minimized the Frobenius norm of $V-WH$.\n",
        "\n",
        "**Approach**: We will pick random positive $W$ & $H$, and then use SGD to optimize."
      ]
    },
    {
      "metadata": {
        "hidden": true,
        "id": "6YaEaxxWqcgH",
        "colab_type": "text"
      },
      "cell_type": "markdown",
      "source": [
        "**To use SGD, we need to know the gradient of the loss function.**\n",
        "\n",
        "**Sources**:\n",
        "- Optimality and gradients of NMF: http://users.wfu.edu/plemmons/papers/chu_ple.pdf\n",
        "- Projected gradients: https://www.csie.ntu.edu.tw/~cjlin/papers/pgradnmf.pdf"
      ]
    },
    {
      "metadata": {
        "hidden": true,
        "id": "-aFPJ9QBqcgJ",
        "colab_type": "code",
        "colab": {}
      },
      "cell_type": "code",
      "source": [
        "lam=1e3\n",
        "lr=1e-2\n",
        "m, n = vectors_tfidf.shape"
      ],
      "execution_count": 0,
      "outputs": []
    },
    {
      "metadata": {
        "hidden": true,
        "id": "E8LhsZq6qcgU",
        "colab_type": "code",
        "colab": {}
      },
      "cell_type": "code",
      "source": [
        "W1 = clf.fit_transform(vectors)\n",
        "H1 = clf.components_"
      ],
      "execution_count": 0,
      "outputs": []
    },
    {
      "metadata": {
        "hidden": true,
        "id": "uNBWX0jlqcgW",
        "colab_type": "code",
        "outputId": "8955a06f-3baa-46e7-b117-e3d861032aa2",
        "colab": {
          "base_uri": "https://localhost:8080/",
          "height": 104
        }
      },
      "cell_type": "code",
      "source": [
        "show_topics(H1)"
      ],
      "execution_count": 141,
      "outputs": [
        {
          "output_type": "execute_result",
          "data": {
            "text/plain": [
              "['jpeg image gif file color images format quality',\n",
              " 'edu graphics pub mail 128 ray ftp send',\n",
              " 'space launch satellite nasa commercial satellites year market',\n",
              " 'jesus god people matthew atheists does atheism said',\n",
              " 'image data available software processing ftp edu analysis']"
            ]
          },
          "metadata": {
            "tags": []
          },
          "execution_count": 141
        }
      ]
    },
    {
      "metadata": {
        "hidden": true,
        "id": "q8g7dum5qcgb",
        "colab_type": "code",
        "colab": {}
      },
      "cell_type": "code",
      "source": [
        "mu = 1e-6\n",
        "def grads(M, W, H):\n",
        "    R = W@H-M\n",
        "    return R@H.T + penalty(W, mu)*lam, W.T@R + penalty(H, mu)*lam # dW, dH"
      ],
      "execution_count": 0,
      "outputs": []
    },
    {
      "metadata": {
        "hidden": true,
        "id": "ZDDbAMqiqcge",
        "colab_type": "code",
        "colab": {}
      },
      "cell_type": "code",
      "source": [
        "def penalty(M, mu):\n",
        "    return np.where(M>=mu,0, np.min(M - mu, 0))"
      ],
      "execution_count": 0,
      "outputs": []
    },
    {
      "metadata": {
        "hidden": true,
        "id": "DPvW3Pbfqcgq",
        "colab_type": "code",
        "colab": {}
      },
      "cell_type": "code",
      "source": [
        "def upd(M, W, H, lr):\n",
        "    dW,dH = grads(M,W,H)\n",
        "    W -= lr*dW; H -= lr*dH"
      ],
      "execution_count": 0,
      "outputs": []
    },
    {
      "metadata": {
        "hidden": true,
        "id": "_hDZBQ73qcgu",
        "colab_type": "code",
        "colab": {}
      },
      "cell_type": "code",
      "source": [
        "def report(M,W,H): \n",
        "    print(np.linalg.norm(M-W@H), W.min(), H.min(), (W<0).sum(), (H<0).sum())"
      ],
      "execution_count": 0,
      "outputs": []
    },
    {
      "metadata": {
        "hidden": true,
        "id": "e3ryK6Foqcg3",
        "colab_type": "code",
        "colab": {}
      },
      "cell_type": "code",
      "source": [
        "W = np.abs(np.random.normal(scale=0.01, size=(m,d)))\n",
        "H = np.abs(np.random.normal(scale=0.01, size=(d,n)))"
      ],
      "execution_count": 0,
      "outputs": []
    },
    {
      "metadata": {
        "hidden": true,
        "id": "0LHQFDALqcg7",
        "colab_type": "code",
        "outputId": "2343f183-990a-445a-acd8-32283eec79dd",
        "colab": {
          "base_uri": "https://localhost:8080/",
          "height": 34
        }
      },
      "cell_type": "code",
      "source": [
        "report(vectors_tfidf, W, H)"
      ],
      "execution_count": 147,
      "outputs": [
        {
          "output_type": "stream",
          "text": [
            "44.42588839362343 2.057389002345274e-06 8.658059943688481e-08 0 0\n"
          ],
          "name": "stdout"
        }
      ]
    },
    {
      "metadata": {
        "hidden": true,
        "id": "0-MV35_GqchH",
        "colab_type": "code",
        "colab": {}
      },
      "cell_type": "code",
      "source": [
        "upd(vectors_tfidf,W,H,lr)"
      ],
      "execution_count": 0,
      "outputs": []
    },
    {
      "metadata": {
        "hidden": true,
        "id": "qCBetF9EqchJ",
        "colab_type": "code",
        "outputId": "45e340a7-f839-4663-d0db-d1db3f2aab53",
        "colab": {
          "base_uri": "https://localhost:8080/",
          "height": 34
        }
      },
      "cell_type": "code",
      "source": [
        "report(vectors_tfidf, W, H)"
      ],
      "execution_count": 149,
      "outputs": [
        {
          "output_type": "stream",
          "text": [
            "44.41822356577722 -0.0008720416899097795 -7.364399776167891e-05 146 274\n"
          ],
          "name": "stdout"
        }
      ]
    },
    {
      "metadata": {
        "hidden": true,
        "id": "qqL0Sh0xqchV",
        "colab_type": "code",
        "outputId": "0b9f52b7-c992-46ee-ceb3-c081b0c6737c",
        "colab": {
          "base_uri": "https://localhost:8080/",
          "height": 104
        }
      },
      "cell_type": "code",
      "source": [
        "for i in range(50): \n",
        "    upd(vectors_tfidf,W,H,lr)\n",
        "    if i % 10 == 0: report(vectors_tfidf,W,H)"
      ],
      "execution_count": 150,
      "outputs": [
        {
          "output_type": "stream",
          "text": [
            "44.412759927186286 -0.0008092135493482069 -7.492961513641313e-05 127 271\n",
            "44.37482228820967 -0.00029267567869833635 -5.8313895065092534e-05 41 516\n",
            "44.34593609607314 -0.00018321253528516928 -6.254336849861624e-05 32 952\n",
            "44.31379012045008 -0.0001093825177665425 -7.984846482815834e-05 36 1556\n",
            "44.2784845623055 -0.0001694664541095039 -0.00010695225184924698 28 2210\n"
          ],
          "name": "stdout"
        }
      ]
    },
    {
      "metadata": {
        "hidden": true,
        "id": "le9HnrOwqcha",
        "colab_type": "code",
        "outputId": "b9eb8229-e9e4-448e-bbdd-eb101529a323",
        "colab": {
          "base_uri": "https://localhost:8080/",
          "height": 104
        }
      },
      "cell_type": "code",
      "source": [
        "show_topics(H)"
      ],
      "execution_count": 151,
      "outputs": [
        {
          "output_type": "execute_result",
          "data": {
            "text/plain": [
              "['space think like don people god just know',\n",
              " 'god people think don know space just like',\n",
              " 'space don god just people like think does',\n",
              " 'just people space don god know think like',\n",
              " 'people god space don just think know like']"
            ]
          },
          "metadata": {
            "tags": []
          },
          "execution_count": 151
        }
      ]
    },
    {
      "metadata": {
        "hidden": true,
        "id": "-3csu1jaqchc",
        "colab_type": "text"
      },
      "cell_type": "markdown",
      "source": [
        "This is painfully slow to train!  Lots of parameter fiddling and still slow to train (or explodes)."
      ]
    },
    {
      "metadata": {
        "heading_collapsed": true,
        "id": "viblCvIzqche",
        "colab_type": "text"
      },
      "cell_type": "markdown",
      "source": [
        "### PyTorch"
      ]
    },
    {
      "metadata": {
        "hidden": true,
        "id": "u4GXJI-Hqchg",
        "colab_type": "text"
      },
      "cell_type": "markdown",
      "source": [
        "[PyTorch](http://pytorch.org/) is a Python framework for tensors and dynamic neural networks with GPU acceleration.  Many of the core contributors work on Facebook's AI team.  In many ways, it is similar to Numpy, only with the increased parallelization of using a GPU.\n",
        "\n",
        "From the [PyTorch documentation](http://pytorch.org/tutorials/beginner/blitz/tensor_tutorial.html):\n",
        "\n",
        "<img src=\"https://github.com/fastai/numerical-linear-algebra/blob/master/nbs/images/what_is_pytorch.png?raw=1\" alt=\"pytorch\" style=\"width: 80%\"/>\n",
        "\n",
        "**Further learning**: If you are curious to learn what *dynamic* neural networks are, you may want to watch [this talk](https://www.youtube.com/watch?v=Z15cBAuY7Sc) by Soumith Chintala, Facebook AI researcher and core PyTorch contributor.\n",
        "\n",
        "If you want to learn more PyTorch, you can try this [tutorial](http://pytorch.org/tutorials/beginner/deep_learning_60min_blitz.html) or this [learning by examples](http://pytorch.org/tutorials/beginner/pytorch_with_examples.html)."
      ]
    },
    {
      "metadata": {
        "hidden": true,
        "id": "MWVCEO5qqchh",
        "colab_type": "text"
      },
      "cell_type": "markdown",
      "source": [
        "**Note about GPUs**: If you are not using a GPU, you will need to remove the `.cuda()` from the methods below. GPU usage is not required for this course, but I thought it would be of interest to some of you.  To learn how to create an AWS instance with a GPU, you can watch the [fast.ai setup lesson](http://course.fast.ai/lessons/aws.html)."
      ]
    },
    {
      "metadata": {
        "hidden": true,
        "id": "wlZFM_Weqchi",
        "colab_type": "code",
        "colab": {}
      },
      "cell_type": "code",
      "source": [
        "import torch\n",
        "import torch.cuda as tc\n",
        "from torch.autograd import Variable"
      ],
      "execution_count": 0,
      "outputs": []
    },
    {
      "metadata": {
        "hidden": true,
        "id": "yMW2wRnaqchl",
        "colab_type": "code",
        "colab": {}
      },
      "cell_type": "code",
      "source": [
        "def V(M): return Variable(M, requires_grad=True)"
      ],
      "execution_count": 0,
      "outputs": []
    },
    {
      "metadata": {
        "hidden": true,
        "id": "lek0M7O5qchy",
        "colab_type": "code",
        "colab": {}
      },
      "cell_type": "code",
      "source": [
        "v=vectors_tfidf.todense()"
      ],
      "execution_count": 0,
      "outputs": []
    },
    {
      "metadata": {
        "hidden": true,
        "id": "V304uGLzqcij",
        "colab_type": "code",
        "colab": {}
      },
      "cell_type": "code",
      "source": [
        "t_vectors = torch.Tensor(v.astype(np.float32)).cuda()"
      ],
      "execution_count": 0,
      "outputs": []
    },
    {
      "metadata": {
        "hidden": true,
        "id": "2rrVb95nqciv",
        "colab_type": "code",
        "colab": {}
      },
      "cell_type": "code",
      "source": [
        "mu = 1e-4"
      ],
      "execution_count": 0,
      "outputs": []
    },
    {
      "metadata": {
        "hidden": true,
        "id": "BXa2cuaPqci0",
        "colab_type": "code",
        "colab": {}
      },
      "cell_type": "code",
      "source": [
        "def grads_t(M, W, H):\n",
        "    R = W.mm(H)-M\n",
        "    return (R.mm(H.t()) + penalty_t(W, mu)*lam, \n",
        "        W.t().mm(R) + penalty_t(H, mu)*lam) # dW, dH\n",
        "\n",
        "def penalty_t(M, mu):\n",
        "    return (M<mu).type(tc.FloatTensor)*torch.clamp(M - mu, max=0.)\n",
        "\n",
        "def upd_t(M, W, H, lr):\n",
        "    dW,dH = grads_t(M,W,H)\n",
        "    W.sub_(lr*dW); H.sub_(lr*dH)\n",
        "\n",
        "def report_t(M,W,H): \n",
        "    print((M-W.mm(H)).norm(2), W.min(), H.min(), (W<0).sum(), (H<0).sum())"
      ],
      "execution_count": 0,
      "outputs": []
    },
    {
      "metadata": {
        "hidden": true,
        "id": "KTkpcF08qcjA",
        "colab_type": "code",
        "colab": {}
      },
      "cell_type": "code",
      "source": [
        "t_W = tc.FloatTensor(m,d)\n",
        "t_H = tc.FloatTensor(d,n)\n",
        "t_W.normal_(std=0.01).abs_(); \n",
        "t_H.normal_(std=0.01).abs_();"
      ],
      "execution_count": 0,
      "outputs": []
    },
    {
      "metadata": {
        "hidden": true,
        "id": "exuJuM1IqcjD",
        "colab_type": "code",
        "colab": {}
      },
      "cell_type": "code",
      "source": [
        "d=6; lam=100; lr=0.05"
      ],
      "execution_count": 0,
      "outputs": []
    },
    {
      "metadata": {
        "hidden": true,
        "scrolled": true,
        "id": "Y8zsGkkeqcjH",
        "colab_type": "code",
        "outputId": "da1fd1fd-04ed-47f8-f7e5-cf4b251483f0",
        "colab": {
          "base_uri": "https://localhost:8080/",
          "height": 191
        }
      },
      "cell_type": "code",
      "source": [
        "for i in range(1000): \n",
        "    upd_t(t_vectors,t_W,t_H,lr)\n",
        "    if i % 100 == 0: \n",
        "        report_t(t_vectors,t_W,t_H)\n",
        "        lr *= 0.9"
      ],
      "execution_count": 160,
      "outputs": [
        {
          "output_type": "stream",
          "text": [
            "tensor(44.3937, device='cuda:0') tensor(-0.0049, device='cuda:0') tensor(-0.0004, device='cuda:0') tensor(841, device='cuda:0') tensor(837, device='cuda:0')\n",
            "tensor(43.7928, device='cuda:0') tensor(-0.0152, device='cuda:0') tensor(-0.0072, device='cuda:0') tensor(1440, device='cuda:0') tensor(3792, device='cuda:0')\n",
            "tensor(43.7184, device='cuda:0') tensor(-0.0093, device='cuda:0') tensor(-0.0037, device='cuda:0') tensor(1335, device='cuda:0') tensor(2596, device='cuda:0')\n",
            "tensor(43.7138, device='cuda:0') tensor(-0.0055, device='cuda:0') tensor(-0.0097, device='cuda:0') tensor(1421, device='cuda:0') tensor(2266, device='cuda:0')\n",
            "tensor(43.7135, device='cuda:0') tensor(-0.0056, device='cuda:0') tensor(-0.0030, device='cuda:0') tensor(1350, device='cuda:0') tensor(2226, device='cuda:0')\n",
            "tensor(43.7129, device='cuda:0') tensor(-0.0039, device='cuda:0') tensor(-0.0067, device='cuda:0') tensor(1510, device='cuda:0') tensor(1959, device='cuda:0')\n",
            "tensor(43.7127, device='cuda:0') tensor(-0.0037, device='cuda:0') tensor(-0.0057, device='cuda:0') tensor(1645, device='cuda:0') tensor(1830, device='cuda:0')\n",
            "tensor(43.7124, device='cuda:0') tensor(-0.0041, device='cuda:0') tensor(-0.0059, device='cuda:0') tensor(1727, device='cuda:0') tensor(2153, device='cuda:0')\n",
            "tensor(43.7124, device='cuda:0') tensor(-0.0038, device='cuda:0') tensor(-0.0057, device='cuda:0') tensor(1751, device='cuda:0') tensor(2150, device='cuda:0')\n",
            "tensor(43.7122, device='cuda:0') tensor(-0.0035, device='cuda:0') tensor(-0.0064, device='cuda:0') tensor(2158, device='cuda:0') tensor(2370, device='cuda:0')\n"
          ],
          "name": "stdout"
        }
      ]
    },
    {
      "metadata": {
        "hidden": true,
        "id": "wnLuqkCMqcjN",
        "colab_type": "code",
        "outputId": "7b1b7b34-8990-47f3-f944-9f8709a2d23a",
        "colab": {
          "base_uri": "https://localhost:8080/",
          "height": 104
        }
      },
      "cell_type": "code",
      "source": [
        "show_topics(t_H.cpu().numpy())"
      ],
      "execution_count": 161,
      "outputs": [
        {
          "output_type": "execute_result",
          "data": {
            "text/plain": [
              "['graphics thanks files image file program windows know',\n",
              " 'space nasa launch shuttle orbit moon lunar earth',\n",
              " 'people don think just like objective say morality',\n",
              " 'god jesus bible believe christian atheism does belief',\n",
              " 'ico bobbe tek bronx beauchaine manhattan sank queens']"
            ]
          },
          "metadata": {
            "tags": []
          },
          "execution_count": 161
        }
      ]
    },
    {
      "metadata": {
        "hidden": true,
        "id": "Tx0f6a_fqcjR",
        "colab_type": "code",
        "outputId": "638b0659-6db9-4a91-b0a5-eb71af1b247e",
        "colab": {
          "base_uri": "https://localhost:8080/",
          "height": 282
        }
      },
      "cell_type": "code",
      "source": [
        "plt.plot(t_H.cpu().numpy()[0])"
      ],
      "execution_count": 162,
      "outputs": [
        {
          "output_type": "execute_result",
          "data": {
            "text/plain": [
              "[<matplotlib.lines.Line2D at 0x7fbf0033ce48>]"
            ]
          },
          "metadata": {
            "tags": []
          },
          "execution_count": 162
        },
        {
          "output_type": "display_data",
          "data": {
            "image/png": "[encoded data removed]",
            "text/plain": [
              "<Figure size 432x288 with 1 Axes>"
            ]
          },
          "metadata": {
            "tags": []
          }
        }
      ]
    },
    {
      "metadata": {
        "hidden": true,
        "id": "RyJ9oTbLqcjn",
        "colab_type": "code",
        "outputId": "718be862-375a-4317-f5e0-235e21ff19f7",
        "colab": {
          "base_uri": "https://localhost:8080/",
          "height": 34
        }
      },
      "cell_type": "code",
      "source": [
        "t_W.mm(t_H).max()"
      ],
      "execution_count": 163,
      "outputs": [
        {
          "output_type": "execute_result",
          "data": {
            "text/plain": [
              "tensor(0.3981, device='cuda:0')"
            ]
          },
          "metadata": {
            "tags": []
          },
          "execution_count": 163
        }
      ]
    },
    {
      "metadata": {
        "hidden": true,
        "id": "vaxkJDNlqcj_",
        "colab_type": "code",
        "outputId": "c197a290-0684-4b5a-f500-af13b20b2440",
        "colab": {
          "base_uri": "https://localhost:8080/",
          "height": 34
        }
      },
      "cell_type": "code",
      "source": [
        "t_vectors.max()"
      ],
      "execution_count": 164,
      "outputs": [
        {
          "output_type": "execute_result",
          "data": {
            "text/plain": [
              "tensor(1., device='cuda:0')"
            ]
          },
          "metadata": {
            "tags": []
          },
          "execution_count": 164
        }
      ]
    },
    {
      "metadata": {
        "heading_collapsed": true,
        "id": "vpLo6-9QqckX",
        "colab_type": "text"
      },
      "cell_type": "markdown",
      "source": [
        "### PyTorch: autograd"
      ]
    },
    {
      "metadata": {
        "hidden": true,
        "id": "3Pz7FVSmqckZ",
        "colab_type": "text"
      },
      "cell_type": "markdown",
      "source": [
        "Above, we used our knowledge of what the gradient of the loss function was to do SGD from scratch in PyTorch.  However, PyTorch has an automatic differentiation package, [autograd](http://pytorch.org/docs/autograd.html) which we could use instead.  This is really useful, in that we can use autograd on problems where we don't know what the derivative is.  \n",
        "\n",
        "The approach we use below is very general, and would work for almost any optimization problem.\n",
        "\n",
        "In PyTorch, Variables have the same API as tensors, but Variables remember the operations used on to create them.  This lets us take derivatives."
      ]
    },
    {
      "metadata": {
        "heading_collapsed": true,
        "hidden": true,
        "id": "PIOCJFPyqckZ",
        "colab_type": "text"
      },
      "cell_type": "markdown",
      "source": [
        "#### PyTorch Autograd Introduction"
      ]
    },
    {
      "metadata": {
        "hidden": true,
        "id": "ppQM2dqpqckb",
        "colab_type": "text"
      },
      "cell_type": "markdown",
      "source": [
        "Example taken from [this tutorial](http://pytorch.org/tutorials/beginner/former_torchies/autograd_tutorial.html) in the official documentation."
      ]
    },
    {
      "metadata": {
        "hidden": true,
        "id": "hHtJIx6cqckc",
        "colab_type": "code",
        "outputId": "05104b9c-c189-4ae0-8315-4ec9e702b44f",
        "colab": {
          "base_uri": "https://localhost:8080/",
          "height": 52
        }
      },
      "cell_type": "code",
      "source": [
        "x = Variable(torch.ones(2, 2), requires_grad=True)\n",
        "print(x)"
      ],
      "execution_count": 165,
      "outputs": [
        {
          "output_type": "stream",
          "text": [
            "tensor([[1., 1.],\n",
            "        [1., 1.]], requires_grad=True)\n"
          ],
          "name": "stdout"
        }
      ]
    },
    {
      "metadata": {
        "hidden": true,
        "id": "wKlUowisqck6",
        "colab_type": "code",
        "outputId": "0c570e99-3729-46f6-8cb6-277590b7860e",
        "colab": {
          "base_uri": "https://localhost:8080/",
          "height": 52
        }
      },
      "cell_type": "code",
      "source": [
        "print(x.data)"
      ],
      "execution_count": 166,
      "outputs": [
        {
          "output_type": "stream",
          "text": [
            "tensor([[1., 1.],\n",
            "        [1., 1.]])\n"
          ],
          "name": "stdout"
        }
      ]
    },
    {
      "metadata": {
        "hidden": true,
        "id": "KsNKzAlpqclA",
        "colab_type": "code",
        "outputId": "fa29d2ad-3af7-4292-8355-6520bf1e73fd",
        "colab": {
          "base_uri": "https://localhost:8080/",
          "height": 34
        }
      },
      "cell_type": "code",
      "source": [
        "print(x.grad)"
      ],
      "execution_count": 167,
      "outputs": [
        {
          "output_type": "stream",
          "text": [
            "None\n"
          ],
          "name": "stdout"
        }
      ]
    },
    {
      "metadata": {
        "hidden": true,
        "id": "bv7MRoNmqclE",
        "colab_type": "code",
        "outputId": "3427ca2f-3f0f-4f25-be88-197d7ada746e",
        "colab": {
          "base_uri": "https://localhost:8080/",
          "height": 52
        }
      },
      "cell_type": "code",
      "source": [
        "y = x + 2\n",
        "print(y)"
      ],
      "execution_count": 168,
      "outputs": [
        {
          "output_type": "stream",
          "text": [
            "tensor([[3., 3.],\n",
            "        [3., 3.]], grad_fn=<AddBackward0>)\n"
          ],
          "name": "stdout"
        }
      ]
    },
    {
      "metadata": {
        "hidden": true,
        "id": "0CkVpQHLqclU",
        "colab_type": "code",
        "outputId": "5a7d10a4-58e2-4ab2-ef54-392321ad1284",
        "colab": {
          "base_uri": "https://localhost:8080/",
          "height": 52
        }
      },
      "cell_type": "code",
      "source": [
        "z = y * y * 3\n",
        "out = z.sum()\n",
        "print(z, out)"
      ],
      "execution_count": 169,
      "outputs": [
        {
          "output_type": "stream",
          "text": [
            "tensor([[27., 27.],\n",
            "        [27., 27.]], grad_fn=<MulBackward0>) tensor(108., grad_fn=<SumBackward0>)\n"
          ],
          "name": "stdout"
        }
      ]
    },
    {
      "metadata": {
        "hidden": true,
        "id": "7qQXdW1Eqclc",
        "colab_type": "code",
        "outputId": "219a2ed0-f5b0-483e-a1e5-09c58a5b3410",
        "colab": {
          "base_uri": "https://localhost:8080/",
          "height": 52
        }
      },
      "cell_type": "code",
      "source": [
        "\n",
        "out.backward()\n",
        "print(x.grad)"
      ],
      "execution_count": 170,
      "outputs": [
        {
          "output_type": "stream",
          "text": [
            "tensor([[18., 18.],\n",
            "        [18., 18.]])\n"
          ],
          "name": "stdout"
        }
      ]
    },
    {
      "metadata": {
        "hidden": true,
        "id": "iyx8X9riqclo",
        "colab_type": "text"
      },
      "cell_type": "markdown",
      "source": [
        "#### Using Autograd for NMF"
      ]
    },
    {
      "metadata": {
        "hidden": true,
        "id": "8JxmDktZqcls",
        "colab_type": "code",
        "colab": {}
      },
      "cell_type": "code",
      "source": [
        "lam=1e6"
      ],
      "execution_count": 0,
      "outputs": []
    },
    {
      "metadata": {
        "hidden": true,
        "id": "CVc0ZeCfqclu",
        "colab_type": "code",
        "colab": {}
      },
      "cell_type": "code",
      "source": [
        "pW = Variable(tc.FloatTensor(m,d), requires_grad=True)\n",
        "pH = Variable(tc.FloatTensor(d,n), requires_grad=True)\n",
        "pW.data.normal_(std=0.01).abs_()\n",
        "pH.data.normal_(std=0.01).abs_();"
      ],
      "execution_count": 0,
      "outputs": []
    },
    {
      "metadata": {
        "hidden": true,
        "id": "tb4XXIdtqclz",
        "colab_type": "code",
        "colab": {}
      },
      "cell_type": "code",
      "source": [
        "def report():\n",
        "    W,H = pW.data, pH.data\n",
        "    print((M-pW.mm(pH)).norm(2).data[0], W.min(), H.min(), (W<0).sum(), (H<0).sum())\n",
        "\n",
        "def penalty(A):\n",
        "    return torch.pow((A<0).type(tc.FloatTensor)*torch.clamp(A, max=0.), 2)\n",
        "\n",
        "def penalize(): return penalty(pW).mean() + penalty(pH).mean()\n",
        "\n",
        "def loss(): return (M-pW.mm(pH)).norm(2) + penalize()*lam"
      ],
      "execution_count": 0,
      "outputs": []
    },
    {
      "metadata": {
        "hidden": true,
        "id": "3n7EwZjIqcl1",
        "colab_type": "code",
        "colab": {}
      },
      "cell_type": "code",
      "source": [
        "M = Variable(t_vectors).cuda()"
      ],
      "execution_count": 0,
      "outputs": []
    },
    {
      "metadata": {
        "hidden": true,
        "id": "oQ2vVS0pqcl3",
        "colab_type": "code",
        "outputId": "6f2e9140-e2d9-4ad3-ee4f-06b93a8a005c",
        "colab": {
          "base_uri": "https://localhost:8080/",
          "height": 323
        }
      },
      "cell_type": "code",
      "source": [
        "opt = torch.optim.Adam([pW,pH], lr=1e-3, betas=(0.9,0.9))\n",
        "lr = 0.05\n",
        "report()"
      ],
      "execution_count": 175,
      "outputs": [
        {
          "output_type": "error",
          "ename": "IndexError",
          "evalue": "ignored",
          "traceback": [
            "\u001b[0;31m---------------------------------------------------------------------------\u001b[0m",
            "\u001b[0;31mIndexError\u001b[0m                                Traceback (most recent call last)",
            "\u001b[0;32m<ipython-input-175-add2287b7e26>\u001b[0m in \u001b[0;36m<module>\u001b[0;34m()\u001b[0m\n\u001b[1;32m      1\u001b[0m \u001b[0mopt\u001b[0m \u001b[0;34m=\u001b[0m \u001b[0mtorch\u001b[0m\u001b[0;34m.\u001b[0m\u001b[0moptim\u001b[0m\u001b[0;34m.\u001b[0m\u001b[0mAdam\u001b[0m\u001b[0;34m(\u001b[0m\u001b[0;34m[\u001b[0m\u001b[0mpW\u001b[0m\u001b[0;34m,\u001b[0m\u001b[0mpH\u001b[0m\u001b[0;34m]\u001b[0m\u001b[0;34m,\u001b[0m \u001b[0mlr\u001b[0m\u001b[0;34m=\u001b[0m\u001b[0;36m1e-3\u001b[0m\u001b[0;34m,\u001b[0m \u001b[0mbetas\u001b[0m\u001b[0;34m=\u001b[0m\u001b[0;34m(\u001b[0m\u001b[0;36m0.9\u001b[0m\u001b[0;34m,\u001b[0m\u001b[0;36m0.9\u001b[0m\u001b[0;34m)\u001b[0m\u001b[0;34m)\u001b[0m\u001b[0;34m\u001b[0m\u001b[0;34m\u001b[0m\u001b[0m\n\u001b[1;32m      2\u001b[0m \u001b[0mlr\u001b[0m \u001b[0;34m=\u001b[0m \u001b[0;36m0.05\u001b[0m\u001b[0;34m\u001b[0m\u001b[0;34m\u001b[0m\u001b[0m\n\u001b[0;32m----> 3\u001b[0;31m \u001b[0mreport\u001b[0m\u001b[0;34m(\u001b[0m\u001b[0;34m)\u001b[0m\u001b[0;34m\u001b[0m\u001b[0;34m\u001b[0m\u001b[0m\n\u001b[0m",
            "\u001b[0;32m<ipython-input-173-c794291a10c8>\u001b[0m in \u001b[0;36mreport\u001b[0;34m()\u001b[0m\n\u001b[1;32m      1\u001b[0m \u001b[0;32mdef\u001b[0m \u001b[0mreport\u001b[0m\u001b[0;34m(\u001b[0m\u001b[0;34m)\u001b[0m\u001b[0;34m:\u001b[0m\u001b[0;34m\u001b[0m\u001b[0;34m\u001b[0m\u001b[0m\n\u001b[1;32m      2\u001b[0m     \u001b[0mW\u001b[0m\u001b[0;34m,\u001b[0m\u001b[0mH\u001b[0m \u001b[0;34m=\u001b[0m \u001b[0mpW\u001b[0m\u001b[0;34m.\u001b[0m\u001b[0mdata\u001b[0m\u001b[0;34m,\u001b[0m \u001b[0mpH\u001b[0m\u001b[0;34m.\u001b[0m\u001b[0mdata\u001b[0m\u001b[0;34m\u001b[0m\u001b[0;34m\u001b[0m\u001b[0m\n\u001b[0;32m----> 3\u001b[0;31m     \u001b[0mprint\u001b[0m\u001b[0;34m(\u001b[0m\u001b[0;34m(\u001b[0m\u001b[0mM\u001b[0m\u001b[0;34m-\u001b[0m\u001b[0mpW\u001b[0m\u001b[0;34m.\u001b[0m\u001b[0mmm\u001b[0m\u001b[0;34m(\u001b[0m\u001b[0mpH\u001b[0m\u001b[0;34m)\u001b[0m\u001b[0;34m)\u001b[0m\u001b[0;34m.\u001b[0m\u001b[0mnorm\u001b[0m\u001b[0;34m(\u001b[0m\u001b[0;36m2\u001b[0m\u001b[0;34m)\u001b[0m\u001b[0;34m.\u001b[0m\u001b[0mdata\u001b[0m\u001b[0;34m[\u001b[0m\u001b[0;36m0\u001b[0m\u001b[0;34m]\u001b[0m\u001b[0;34m,\u001b[0m \u001b[0mW\u001b[0m\u001b[0;34m.\u001b[0m\u001b[0mmin\u001b[0m\u001b[0;34m(\u001b[0m\u001b[0;34m)\u001b[0m\u001b[0;34m,\u001b[0m \u001b[0mH\u001b[0m\u001b[0;34m.\u001b[0m\u001b[0mmin\u001b[0m\u001b[0;34m(\u001b[0m\u001b[0;34m)\u001b[0m\u001b[0;34m,\u001b[0m \u001b[0;34m(\u001b[0m\u001b[0mW\u001b[0m\u001b[0;34m<\u001b[0m\u001b[0;36m0\u001b[0m\u001b[0;34m)\u001b[0m\u001b[0;34m.\u001b[0m\u001b[0msum\u001b[0m\u001b[0;34m(\u001b[0m\u001b[0;34m)\u001b[0m\u001b[0;34m,\u001b[0m \u001b[0;34m(\u001b[0m\u001b[0mH\u001b[0m\u001b[0;34m<\u001b[0m\u001b[0;36m0\u001b[0m\u001b[0;34m)\u001b[0m\u001b[0;34m.\u001b[0m\u001b[0msum\u001b[0m\u001b[0;34m(\u001b[0m\u001b[0;34m)\u001b[0m\u001b[0;34m)\u001b[0m\u001b[0;34m\u001b[0m\u001b[0;34m\u001b[0m\u001b[0m\n\u001b[0m\u001b[1;32m      4\u001b[0m \u001b[0;34m\u001b[0m\u001b[0m\n\u001b[1;32m      5\u001b[0m \u001b[0;32mdef\u001b[0m \u001b[0mpenalty\u001b[0m\u001b[0;34m(\u001b[0m\u001b[0mA\u001b[0m\u001b[0;34m)\u001b[0m\u001b[0;34m:\u001b[0m\u001b[0;34m\u001b[0m\u001b[0;34m\u001b[0m\u001b[0m\n",
            "\u001b[0;31mIndexError\u001b[0m: invalid index of a 0-dim tensor. Use tensor.item() to convert a 0-dim tensor to a Python number"
          ]
        }
      ]
    },
    {
      "metadata": {
        "hidden": true,
        "id": "WfYxEHn0qcl6",
        "colab_type": "text"
      },
      "cell_type": "markdown",
      "source": [
        "How to apply SGD, using autograd:"
      ]
    },
    {
      "metadata": {
        "hidden": true,
        "scrolled": true,
        "id": "h29d4dhqqcl7",
        "colab_type": "code",
        "colab": {}
      },
      "cell_type": "code",
      "source": [
        "for i in range(1000): \n",
        "    opt.zero_grad()\n",
        "    l = loss()\n",
        "    l.backward()\n",
        "    opt.step()\n",
        "    if i % 100 == 99: \n",
        "        report()\n",
        "        lr *= 0.9     # learning rate annealling"
      ],
      "execution_count": 0,
      "outputs": []
    },
    {
      "metadata": {
        "hidden": true,
        "id": "cqOrHoVzqcl_",
        "colab_type": "code",
        "colab": {}
      },
      "cell_type": "code",
      "source": [
        "h = pH.data.cpu().numpy()\n",
        "show_topics(h)"
      ],
      "execution_count": 0,
      "outputs": []
    },
    {
      "metadata": {
        "hidden": true,
        "scrolled": false,
        "id": "brfu85-MqcmF",
        "colab_type": "code",
        "colab": {}
      },
      "cell_type": "code",
      "source": [
        "plt.plot(h[0]);"
      ],
      "execution_count": 0,
      "outputs": []
    },
    {
      "metadata": {
        "id": "pTAetyiYqcmI",
        "colab_type": "text"
      },
      "cell_type": "markdown",
      "source": [
        "### Comparing Approaches"
      ]
    },
    {
      "metadata": {
        "heading_collapsed": true,
        "id": "_k3jubpZqcmK",
        "colab_type": "text"
      },
      "cell_type": "markdown",
      "source": [
        "#### Scikit-Learn's NMF\n",
        "- Fast\n",
        "- No parameter tuning\n",
        "- Relies on decades of academic research, took experts a long time to implement\n",
        "\n",
        "<img src=\"https://github.com/fastai/numerical-linear-algebra/blob/master/nbs/images/nimfa.png?raw=1\" alt=\"research on NMF\" style=\"width: 80%\"/>\n",
        "source: [Python Nimfa Documentation](http://nimfa.biolab.si/)\n",
        "\n",
        "#### Using PyTorch and SGD\n",
        "- Took us an hour to implement, didn't have to be NMF experts\n",
        "- Parameters were fiddly\n",
        "- Not as fast (tried in numpy and was so slow we had to switch to PyTorch)"
      ]
    },
    {
      "metadata": {
        "id": "gj5kOml6qcmL",
        "colab_type": "text"
      },
      "cell_type": "markdown",
      "source": [
        "## Truncated SVD"
      ]
    },
    {
      "metadata": {
        "id": "dtjgkJegqcmN",
        "colab_type": "text"
      },
      "cell_type": "markdown",
      "source": [
        "We saved a lot of time when we calculated NMF by only calculating the subset of columns we were interested in. Is there a way to get this benefit with SVD? Yes there is! It's called truncated SVD.  We are just interested in the vectors corresponding to the **largest** singular values."
      ]
    },
    {
      "metadata": {
        "id": "S5nYa2P6qcmN",
        "colab_type": "text"
      },
      "cell_type": "markdown",
      "source": [
        "<img src=\"https://github.com/fastai/numerical-linear-algebra/blob/master/nbs/images/svd_fb.png?raw=1\" alt=\"\" style=\"width: 80%\"/>\n",
        "(source: [Facebook Research: Fast Randomized SVD](https://research.fb.com/fast-randomized-svd/))"
      ]
    },
    {
      "metadata": {
        "id": "1HDwTLK3qcmO",
        "colab_type": "text"
      },
      "cell_type": "markdown",
      "source": [
        "#### Shortcomings of classical algorithms for decomposition:"
      ]
    },
    {
      "metadata": {
        "id": "z1Xlm4R_qcmP",
        "colab_type": "text"
      },
      "cell_type": "markdown",
      "source": [
        "- Matrices are \"stupendously big\"\n",
        "- Data are often **missing or inaccurate**.  Why spend extra computational resources when imprecision of input limits precision of the output?\n",
        "- **Data transfer** now plays a major role in time of algorithms.  Techniques the require fewer passes over the data may be substantially faster, even if they require more flops (flops = floating point operations).\n",
        "- Important to take advantage of **GPUs**.\n",
        "\n",
        "(source: [Halko](https://arxiv.org/abs/0909.4061))"
      ]
    },
    {
      "metadata": {
        "id": "PJH58sZNqcmQ",
        "colab_type": "text"
      },
      "cell_type": "markdown",
      "source": [
        "\n",
        "#### Advantages of randomized algorithms:"
      ]
    },
    {
      "metadata": {
        "id": "rGQx0mRaqcmS",
        "colab_type": "text"
      },
      "cell_type": "markdown",
      "source": [
        "- inherently stable\n",
        "- performance guarantees do not depend on subtle spectral properties\n",
        "- needed matrix-vector products can be done in parallel\n",
        "\n",
        "(source: [Halko](https://arxiv.org/abs/0909.4061))"
      ]
    },
    {
      "metadata": {
        "id": "iSn17VL4qcmU",
        "colab_type": "text"
      },
      "cell_type": "markdown",
      "source": [
        "### Randomized SVD"
      ]
    },
    {
      "metadata": {
        "id": "e_AgzxKhqcmV",
        "colab_type": "text"
      },
      "cell_type": "markdown",
      "source": [
        "Reminder: full SVD is **slow**.  This is the calculation we did above using Scipy's Linalg SVD:"
      ]
    },
    {
      "metadata": {
        "id": "anLA0YCnqcmW",
        "colab_type": "code",
        "colab": {}
      },
      "cell_type": "code",
      "source": [
        "vectors.shape"
      ],
      "execution_count": 0,
      "outputs": []
    },
    {
      "metadata": {
        "id": "X7NrHVz0qcma",
        "colab_type": "code",
        "colab": {}
      },
      "cell_type": "code",
      "source": [
        "%time U, s, Vh = linalg.svd(vectors, full_matrices=False)"
      ],
      "execution_count": 0,
      "outputs": []
    },
    {
      "metadata": {
        "id": "9vq2_uzAqcmc",
        "colab_type": "code",
        "colab": {}
      },
      "cell_type": "code",
      "source": [
        "print(U.shape, s.shape, Vh.shape)"
      ],
      "execution_count": 0,
      "outputs": []
    },
    {
      "metadata": {
        "id": "N8b2H-fqqcmh",
        "colab_type": "text"
      },
      "cell_type": "markdown",
      "source": [
        "Fortunately, there is a faster way:"
      ]
    },
    {
      "metadata": {
        "id": "AtAnTURPqcml",
        "colab_type": "code",
        "colab": {}
      },
      "cell_type": "code",
      "source": [
        "%time u, s, v = decomposition.randomized_svd(vectors, 5)"
      ],
      "execution_count": 0,
      "outputs": []
    },
    {
      "metadata": {
        "id": "-icXQLn9qcmo",
        "colab_type": "text"
      },
      "cell_type": "markdown",
      "source": [
        "The runtime complexity for SVD is $\\mathcal{O}(\\text{min}(m^2 n,\\; m n^2))$"
      ]
    },
    {
      "metadata": {
        "id": "a5prKLnNqcmp",
        "colab_type": "text"
      },
      "cell_type": "markdown",
      "source": [
        "**Question**: How can we speed things up?  (without new breakthroughs in SVD research)"
      ]
    },
    {
      "metadata": {
        "id": "qseoFL-Uqcmq",
        "colab_type": "text"
      },
      "cell_type": "markdown",
      "source": [
        "**Idea**: Let's use a smaller matrix (with smaller $n$)!\n",
        "\n",
        "Instead of calculating the SVD on our full matrix $A$ which is $m \\times n$, let's use $B = A Q$, which is just $m \\times r$ and $r << n$\n",
        "\n",
        "We haven't found a better general SVD method, we are just using the method we have on a smaller matrix."
      ]
    },
    {
      "metadata": {
        "id": "TKCUzbdoqcmr",
        "colab_type": "code",
        "colab": {}
      },
      "cell_type": "code",
      "source": [
        "%time u, s, v = decomposition.randomized_svd(vectors, 5)"
      ],
      "execution_count": 0,
      "outputs": []
    },
    {
      "metadata": {
        "id": "xOH8Heb8qcmu",
        "colab_type": "code",
        "colab": {}
      },
      "cell_type": "code",
      "source": [
        "u.shape, s.shape, v.shape"
      ],
      "execution_count": 0,
      "outputs": []
    },
    {
      "metadata": {
        "id": "gzt7kpEhqcmz",
        "colab_type": "code",
        "colab": {}
      },
      "cell_type": "code",
      "source": [
        "show_topics(v)"
      ],
      "execution_count": 0,
      "outputs": []
    },
    {
      "metadata": {
        "id": "bMhJbH5dqcm3",
        "colab_type": "text"
      },
      "cell_type": "markdown",
      "source": [
        "Here are some results from [Facebook Research](https://research.fb.com/fast-randomized-svd/):\n",
        "\n",
        "<img src=\"https://github.com/fastai/numerical-linear-algebra/blob/master/nbs/images/randomizedSVDbenchmarks.png?raw=1\" alt=\"\" style=\"width: 80%\"/>"
      ]
    },
    {
      "metadata": {
        "id": "LrPlHbjDqcm3",
        "colab_type": "text"
      },
      "cell_type": "markdown",
      "source": [
        "**Johnson-Lindenstrauss Lemma**: ([from wikipedia](https://en.wikipedia.org/wiki/Johnson%E2%80%93Lindenstrauss_lemma)) a small set of points in a high-dimensional space can be embedded into a space of much lower dimension in such a way that distances between the points are nearly preserved.\n",
        "\n",
        "It is desirable to be able to reduce dimensionality of data in a way that preserves relevant structure. The Johnson–Lindenstrauss lemma is a classic result of this type."
      ]
    },
    {
      "metadata": {
        "id": "ZAQi1EqCqcm3",
        "colab_type": "text"
      },
      "cell_type": "markdown",
      "source": [
        "### Implementing our own Randomized SVD"
      ]
    },
    {
      "metadata": {
        "id": "fslTO7fCqcm4",
        "colab_type": "code",
        "colab": {}
      },
      "cell_type": "code",
      "source": [
        "from scipy import linalg"
      ],
      "execution_count": 0,
      "outputs": []
    },
    {
      "metadata": {
        "id": "9fxvZN3yqcm5",
        "colab_type": "text"
      },
      "cell_type": "markdown",
      "source": [
        "The method `randomized_range_finder` finds an orthonormal matrix whose range approximates the range of A (step 1 in our algorithm above).  To do so, we use the LU and QR factorizations, both of which we will be covering in depth later.\n",
        "\n",
        "I am using the [scikit-learn.extmath.randomized_svd source code](https://github.com/scikit-learn/scikit-learn/blob/14031f65d144e3966113d3daec836e443c6d7a5b/sklearn/utils/extmath.py) as a guide."
      ]
    },
    {
      "metadata": {
        "id": "9n9CpJLYqcm5",
        "colab_type": "code",
        "colab": {}
      },
      "cell_type": "code",
      "source": [
        "# computes an orthonormal matrix whose range approximates the range of A\n",
        "# power_iteration_normalizer can be safe_sparse_dot (fast but unstable), LU (imbetween), or QR (slow but most accurate)\n",
        "def randomized_range_finder(A, size, n_iter=5):\n",
        "    Q = np.random.normal(size=(A.shape[1], size))\n",
        "    \n",
        "    for i in range(n_iter):\n",
        "        Q, _ = linalg.lu(A @ Q, permute_l=True)\n",
        "        Q, _ = linalg.lu(A.T @ Q, permute_l=True)\n",
        "        \n",
        "    Q, _ = linalg.qr(A @ Q, mode='economic')\n",
        "    return Q"
      ],
      "execution_count": 0,
      "outputs": []
    },
    {
      "metadata": {
        "id": "wlLn_JATqcm7",
        "colab_type": "text"
      },
      "cell_type": "markdown",
      "source": [
        "And here's our randomized SVD method:"
      ]
    },
    {
      "metadata": {
        "id": "6XfkIkXeqcm7",
        "colab_type": "code",
        "colab": {}
      },
      "cell_type": "code",
      "source": [
        "def randomized_svd(M, n_components, n_oversamples=10, n_iter=4):\n",
        "    \n",
        "    n_random = n_components + n_oversamples\n",
        "    \n",
        "    Q = randomized_range_finder(M, n_random, n_iter)\n",
        "    \n",
        "    # project M to the (k + p) dimensional space using the basis vectors\n",
        "    B = Q.T @ M\n",
        "    \n",
        "    # compute the SVD on the thin matrix: (k + p) wide\n",
        "    Uhat, s, V = linalg.svd(B, full_matrices=False)\n",
        "    del B\n",
        "    U = Q @ Uhat\n",
        "    \n",
        "    return U[:, :n_components], s[:n_components], V[:n_components, :]"
      ],
      "execution_count": 0,
      "outputs": []
    },
    {
      "metadata": {
        "id": "olzL5Rb3qcm9",
        "colab_type": "code",
        "colab": {}
      },
      "cell_type": "code",
      "source": [
        "u, s, v = randomized_svd(vectors, 5)"
      ],
      "execution_count": 0,
      "outputs": []
    },
    {
      "metadata": {
        "id": "6_ergJguqcm-",
        "colab_type": "code",
        "colab": {}
      },
      "cell_type": "code",
      "source": [
        "%time u, s, v = randomized_svd(vectors, 5)"
      ],
      "execution_count": 0,
      "outputs": []
    },
    {
      "metadata": {
        "id": "mvw1WR-wqcnC",
        "colab_type": "code",
        "colab": {}
      },
      "cell_type": "code",
      "source": [
        "u.shape, s.shape, v.shape"
      ],
      "execution_count": 0,
      "outputs": []
    },
    {
      "metadata": {
        "id": "tL_ZSzlMqcnG",
        "colab_type": "code",
        "colab": {}
      },
      "cell_type": "code",
      "source": [
        "show_topics(v)"
      ],
      "execution_count": 0,
      "outputs": []
    },
    {
      "metadata": {
        "id": "YaCNu_K-qcnJ",
        "colab_type": "text"
      },
      "cell_type": "markdown",
      "source": [
        "Write a loop to calculate the error of your decomposition as you vary the # of topics.  Plot the result"
      ]
    },
    {
      "metadata": {
        "id": "1-TKmNncqcnK",
        "colab_type": "text"
      },
      "cell_type": "markdown",
      "source": [
        "#### Answer"
      ]
    },
    {
      "metadata": {
        "id": "M4pGIfsxqcnK",
        "colab_type": "code",
        "colab": {}
      },
      "cell_type": "code",
      "source": [
        "#Exercise: Write a loop to calculate the error of your decomposition as you vary the # of topics\n",
        "\n",
        "steps = 20\n",
        "n = 20\n",
        "error = np.zeros(n)\n",
        "\n",
        "for i in range(n):\n",
        "  U,s,V = randomized_svd(vectors, i*step)\n",
        "  reconstructed = U @ np.diag(s) @ V\n",
        "  error[i] = np.linalg.norm(vectors - reconstructed)\n"
      ],
      "execution_count": 0,
      "outputs": []
    },
    {
      "metadata": {
        "id": "mEnl0X_WqcnM",
        "colab_type": "code",
        "colab": {}
      },
      "cell_type": "code",
      "source": [
        "plt.plot(range(0,n*step,step), error)"
      ],
      "execution_count": 0,
      "outputs": []
    },
    {
      "metadata": {
        "id": "tEC1rWX9qcn7",
        "colab_type": "text"
      },
      "cell_type": "markdown",
      "source": [
        "**Further Resources**:\n",
        "- [a whole course on randomized algorithms](http://www.cs.ubc.ca/~nickhar/W12/)"
      ]
    },
    {
      "metadata": {
        "heading_collapsed": true,
        "id": "ss_7J7zbqcoS",
        "colab_type": "text"
      },
      "cell_type": "markdown",
      "source": [
        "### More Details"
      ]
    },
    {
      "metadata": {
        "hidden": true,
        "id": "eVqel3UBqcoU",
        "colab_type": "text"
      },
      "cell_type": "markdown",
      "source": [
        "Here is a process to calculate a truncated SVD, described in [Finding Structure with Randomness: Probabilistic Algorithms for Constructing Approximate Matrix Decompositions](https://arxiv.org/pdf/0909.4061.pdf) and [summarized in this blog post](https://research.fb.com/fast-randomized-svd/):\n",
        "\n",
        "1\\. Compute an approximation to the range of $A$. That is, we want $Q$ with $r$ orthonormal columns such that $$A \\approx QQ^TA$$\n",
        "\n",
        "\n",
        "2\\. Construct $B = Q^T A$, which is small ($r\\times n$)\n",
        "\n",
        "\n",
        "3\\. Compute the SVD of $B$ by standard methods (fast since $B$ is smaller than $A$), $B = S\\,\\Sigma V^T$\n",
        "\n",
        "4\\. Since $$ A \\approx Q Q^T A = Q (S\\,\\Sigma V^T)$$ if we set $U = QS$, then we have a low rank approximation $A \\approx U \\Sigma V^T$."
      ]
    },
    {
      "metadata": {
        "hidden": true,
        "id": "1kIquuQoqcoW",
        "colab_type": "text"
      },
      "cell_type": "markdown",
      "source": [
        "#### So how do we find $Q$ (in step 1)?"
      ]
    },
    {
      "metadata": {
        "hidden": true,
        "id": "wXEe8iOxqcoX",
        "colab_type": "text"
      },
      "cell_type": "markdown",
      "source": [
        "To estimate the range of $A$, we can just take a bunch of random vectors $w_i$, evaluate the subspace formed by $Aw_i$.  We can form a matrix $W$ with the $w_i$ as it's columns.  Now, we take the QR decomposition of $AW = QR$, then the columns of $Q$ form an orthonormal basis for $AW$, which is the range of $A$.\n",
        "\n",
        "Since the matrix $AW$ of the product has far more rows than columns and therefore, approximately, orthonormal columns. This is simple probability - with lots of rows, and few columns, it's unlikely that the columns are linearly dependent."
      ]
    },
    {
      "metadata": {
        "hidden": true,
        "id": "IKM17_lYqcoY",
        "colab_type": "text"
      },
      "cell_type": "markdown",
      "source": [
        "#### The QR Decomposition"
      ]
    },
    {
      "metadata": {
        "hidden": true,
        "id": "GfmMpLJnqcoY",
        "colab_type": "text"
      },
      "cell_type": "markdown",
      "source": [
        "We will be learning about the QR decomposition **in depth** later on.  For now, you just need to know that $A = QR$, where $Q$ consists of orthonormal columns, and $R$ is upper triangular.  Trefethen says that the QR decomposition is the most important idea in numerical linear algebra!  We will definitely be returning to it."
      ]
    },
    {
      "metadata": {
        "hidden": true,
        "id": "FBaLa7AdqcoZ",
        "colab_type": "text"
      },
      "cell_type": "markdown",
      "source": [
        "#### How should we choose $r$?"
      ]
    },
    {
      "metadata": {
        "hidden": true,
        "id": "4Jylcj-nqcoa",
        "colab_type": "text"
      },
      "cell_type": "markdown",
      "source": [
        "Suppose our matrix has 100 columns, and we want 5 columns in U and V. To be safe, we should project our matrix onto an orthogonal basis with a few more rows and columns than 5 (let's use 15).  At the end, we will just grab the first 5 columns of U and V\n",
        "\n",
        "So even although our projection was only approximate, by making it a bit bigger than we need, we can make up for the loss of accuracy (since we're only taking a subset later). "
      ]
    },
    {
      "metadata": {
        "hidden": true,
        "id": "FY7Vk1YOqcob",
        "colab_type": "code",
        "colab": {}
      },
      "cell_type": "code",
      "source": [
        "%time u, s, v = decomposition.randomized_svd(vectors, 5)"
      ],
      "execution_count": 0,
      "outputs": []
    },
    {
      "metadata": {
        "hidden": true,
        "id": "NrX19zi7qcof",
        "colab_type": "code",
        "colab": {}
      },
      "cell_type": "code",
      "source": [
        "%time u, s, v = decomposition.randomized_svd(vectors.todense(), 5)"
      ],
      "execution_count": 0,
      "outputs": []
    },
    {
      "metadata": {
        "id": "SKqcrdWVqcov",
        "colab_type": "text"
      },
      "cell_type": "markdown",
      "source": [
        "## End"
      ]
    }
  ]
}